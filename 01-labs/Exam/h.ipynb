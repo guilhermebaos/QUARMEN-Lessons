{
 "cells": [
  {
   "cell_type": "markdown",
   "metadata": {},
   "source": [
    "# Imports"
   ]
  },
  {
   "cell_type": "code",
   "execution_count": 1,
   "metadata": {},
   "outputs": [],
   "source": [
    "import numpy as np\n",
    "import matplotlib.pyplot as plt\n",
    "\n",
    "from typing import Callable"
   ]
  },
  {
   "cell_type": "markdown",
   "metadata": {},
   "source": [
    "# Hydrogen Atom"
   ]
  },
  {
   "cell_type": "markdown",
   "metadata": {},
   "source": [
    "We will start by studying the Hydrogen Atom:\n",
    "\n",
    "$$\n",
    "\\begin{align*}\n",
    "\n",
    "H &= -\\frac12\\nabla^2 - \\frac1r\n",
    "\\\\\\\\\n",
    "\n",
    "\n",
    "\\psi(\\textbf r) &= e^{-\\beta r}\n",
    "\n",
    "\\end{align*}\n",
    "$$"
   ]
  },
  {
   "cell_type": "markdown",
   "metadata": {},
   "source": [
    "# Metropolis Sampling Position"
   ]
  },
  {
   "cell_type": "code",
   "execution_count": 2,
   "metadata": {},
   "outputs": [],
   "source": [
    "def rvec(pos: np.ndarray) -> float:\n",
    "    return np.sqrt(pos[0]**2 + pos[1]**2 + pos[2]**2)\n",
    "\n",
    "\n",
    "def r3(x: float, y: float, z:float) -> float:\n",
    "    return np.sqrt(x**2 + y**2 + z**2)\n",
    "\n",
    "\n",
    "def samplePos(M: int, beta: float, delta: float = 0.5) -> np.ndarray:\n",
    "    \"\"\"\n",
    "        Samples M positions taking as the desired distribution psi, assuming psi is real!\n",
    "    \"\"\"\n",
    "\n",
    "    # List of samples\n",
    "    samples = np.zeros((M), dtype=float)\n",
    "\n",
    "    # Starting position\n",
    "    x, y, z = 10, 0.1, 0.01\n",
    "    rpos = r3(x, y, z)\n",
    "    samples[0] = rpos\n",
    "\n",
    "    logpsi = -beta * rpos\n",
    "\n",
    "    # Metropolis Loop\n",
    "    succ = 0\n",
    "    for attempt in range(M-1):\n",
    "        xp = x + delta*(np.random.random() - 0.5)\n",
    "        yp = y + delta*(np.random.random() - 0.5)\n",
    "        zp = z + delta*(np.random.random() - 0.5)\n",
    "\n",
    "        rposp = r3(xp, yp, zp)\n",
    "        logpsip = -beta * rposp\n",
    "\n",
    "        accept = min(1, np.exp(2 * (logpsip - logpsi)))\n",
    "\n",
    "        # Accept step\n",
    "        if accept > np.random.random():\n",
    "            succ += 1\n",
    "\n",
    "            x, y, z = xp, yp, zp\n",
    "            rpos = rposp\n",
    "            logpsi = logpsip\n",
    "        \n",
    "        # Save state\n",
    "        samples[attempt+1] = rpos\n",
    "    \n",
    "    print(f\"Acceptance: {succ / attempt}\")\n",
    "    return samples"
   ]
  },
  {
   "cell_type": "code",
   "execution_count": 46,
   "metadata": {},
   "outputs": [],
   "source": [
    "def sampleNeff(data: np.ndarray, k1: int = 0, icutoff: int = 200) -> int:\n",
    "    # Raw data\n",
    "    N = len(data)\n",
    "    k2 = N-1\n",
    "\n",
    "    # icutoff = int(k2 * icutoff)\n",
    "    Neq = k2 - k1 + 1\n",
    "\n",
    "    # Calculate Stats\n",
    "    ave = np.mean(data)\n",
    "    var = np.var(data, mean=ave, ddof=1)\n",
    "\n",
    "    autocorr = np.array([np.sum((data[k1: k2-i]-ave) * (data[k1 + i: k2]-ave)) / (Neq - i) for i in range(1, Neq)]) / (var)\n",
    "    timecorr = 1 + 2 * np.sum(autocorr[:icutoff] * (autocorr[:icutoff] > 0))\n",
    "\n",
    "    Neff = Neq / timecorr\n",
    "    print(f\"Neff: {Neff}\")\n",
    "\n",
    "    return Neff"
   ]
  },
  {
   "cell_type": "markdown",
   "metadata": {},
   "source": [
    "## No Reweighting"
   ]
  },
  {
   "cell_type": "code",
   "execution_count": 50,
   "metadata": {},
   "outputs": [
    {
     "name": "stdout",
     "output_type": "stream",
     "text": [
      "Beta = 1.300\n",
      "Acceptance: 0.4006801360272054\n",
      "Neff: 317.3201289600053\n",
      "Energy = -0.44886272631027896\n",
      "Variance on Energy = 0.15191174445374217\n",
      "Standard Deviation on Mean Energy = 0.02187997716450821\n",
      "\n"
     ]
    }
   ],
   "source": [
    "# Parameters\n",
    "sampleM = 10000\n",
    "discard = 0\n",
    "delta = 2.4\n",
    "\n",
    "# Sweep Variational Parameter\n",
    "betaMin = 0.2\n",
    "betaMax = 1.7\n",
    "\n",
    "Ebeta = []\n",
    "Estd = []\n",
    "Evar = []\n",
    "bbRange = np.linspace(betaMin, betaMax, 16)\n",
    "for betaStart in [1.3]:\n",
    "    print(f\"Beta = {betaStart:.3f}\")\n",
    "    Rs = samplePos(sampleM, betaStart, delta)\n",
    "    Rs = Rs[discard:]\n",
    "    Neff = sampleNeff(Rs)\n",
    "    El = -0.5*betaStart*(betaStart - 2/Rs) - 1.0 / Rs\n",
    "\n",
    "    Evar += [np.var(El)]\n",
    "    Estd += [np.std(El) / np.sqrt(Neff)]\n",
    "    Ebeta += [np.average(El)]\n",
    "    print(f\"Energy = {Ebeta[-1]}\")\n",
    "    print(f\"Variance on Energy = {Evar[-1]}\")\n",
    "    print(f\"Standard Deviation on Mean Energy = {Estd[-1]}\")\n",
    "    print(\"\")\n",
    "\n",
    "# print(f\"Best beta: {bbRange[Ebeta.index(np.min(Ebeta))]}\")\n",
    "# plt.errorbar(bbRange, Ebeta, yerr=Estd, ecolor=\"black\")\n",
    "# plt.xlabel(\"Value of $\\\\beta$\")\n",
    "# plt.ylabel(\"Energy $E(\\\\beta)$\")\n",
    "# plt.title(\"Parameter Sweep\")"
   ]
  },
  {
   "cell_type": "markdown",
   "metadata": {},
   "source": [
    "# With Reweighting"
   ]
  },
  {
   "cell_type": "code",
   "execution_count": 5,
   "metadata": {},
   "outputs": [
    {
     "name": "stdout",
     "output_type": "stream",
     "text": [
      "BetaMid = 2.000\n",
      "Acceptance: 0.4424070678446408\n",
      "Neff: 97.8709269755538\n",
      "\n",
      "BetaMid = 1.200\n",
      "Acceptance: 0.6406067677946324\n",
      "Neff: 56.8587104060198\n",
      "\n",
      "BetaMid = 1.000\n",
      "Acceptance: 0.6873645607601266\n",
      "Neff: 58.69275043606623\n",
      "\n",
      "BetaMid = 1.000\n",
      "Acceptance: 0.7046174362393732\n",
      "Neff: 47.23528125048263\n",
      "\n",
      "BetaMid = 1.000\n",
      "Acceptance: 0.6832805467577929\n",
      "Neff: 66.13826869977365\n",
      "\n",
      "Final beta: 1.0\n",
      "Minimum energy: -0.5\n"
     ]
    },
    {
     "data": {
      "text/plain": [
       "<matplotlib.legend.Legend at 0x7fbf11093380>"
      ]
     },
     "execution_count": 5,
     "metadata": {},
     "output_type": "execute_result"
    },
    {
     "data": {
      "image/png": "[encoded data removed]",
      "text/plain": [
       "<Figure size 640x480 with 1 Axes>"
      ]
     },
     "metadata": {},
     "output_type": "display_data"
    }
   ],
   "source": [
    "# Sampling Parameters\n",
    "sampleM = 12000\n",
    "discard = 2000\n",
    "\n",
    "delta = 1.4\n",
    "\n",
    "# Target Function is energy + stdW * std\n",
    "stdW = 2\n",
    "\n",
    "# Starting Variational Parameters\n",
    "betaStart = 2\n",
    "\n",
    "betaRange = 1\n",
    "betaSamples = 11\n",
    "betaMult = 0.5\n",
    "\n",
    "betaSteps = 5\n",
    "\n",
    "betaMid = betaStart\n",
    "for _ in range(betaSteps):\n",
    "    betaMin = betaMid - betaRange\n",
    "    betaMax = betaMid + betaRange\n",
    "\n",
    "    Ebeta = []\n",
    "    Estd = []\n",
    "    bb = []\n",
    "    bbRange = np.linspace(betaMin, betaMax, betaSamples)\n",
    "    \n",
    "    print(f\"BetaMid = {betaMid:.3f}\")\n",
    "    Rs = samplePos(sampleM, betaMid, delta=delta)\n",
    "    Rs = Rs[discard:]\n",
    "    Neff = sampleNeff(Rs)\n",
    "    for beta in bbRange:\n",
    "        # Calculate weights\n",
    "        ww = np.exp(-2 * (beta - betaMid) * Rs)\n",
    "\n",
    "        # Effective number of points\n",
    "        m = ((np.sum(ww))**2 / np.sum(ww**2)) / len(Rs)\n",
    "        if m < 0.5:\n",
    "            continue\n",
    "\n",
    "        bb += [beta]\n",
    "\n",
    "        El = -0.5*beta*(beta - 2/Rs) - 1.0 / Rs\n",
    "        Estd += [np.std(El) / np.sqrt(Neff)]\n",
    "        Ebeta += [(np.sum(El * ww)) / (np.sum(ww))]\n",
    "    \n",
    "    # Plot results\n",
    "    plt.errorbar(bb, Ebeta, yerr=Estd, ecolor=\"black\", label=f\"BetaMid = {betaMid:.4f}\")\n",
    "    \n",
    "    # Target function\n",
    "    target = [Ebeta[i] + stdW * Estd[i] for i in range(len(bb))]\n",
    "\n",
    "    betaMini = bb[target.index(min(target))]\n",
    "    betaMid = betaMini\n",
    "    betaRange *= betaMult\n",
    "    print(\"\")\n",
    "\n",
    "\n",
    "print(f\"Final beta: {betaMini}\")\n",
    "print(f\"Minimum energy: {min(Ebeta)}\")\n",
    "\n",
    "plt.xlabel(\"Value of $\\\\beta$\")\n",
    "plt.ylabel(\"Energy $E(\\\\beta)$\")\n",
    "plt.title(\"Parameter Sweep\")\n",
    "plt.legend()"
   ]
  },
  {
   "cell_type": "code",
   "execution_count": null,
   "metadata": {},
   "outputs": [],
   "source": []
  }
 ],
 "metadata": {
  "kernelspec": {
   "display_name": "venv",
   "language": "python",
   "name": "python3"
  },
  "language_info": {
   "codemirror_mode": {
    "name": "ipython",
    "version": 3
   },
   "file_extension": ".py",
   "mimetype": "text/x-python",
   "name": "python",
   "nbconvert_exporter": "python",
   "pygments_lexer": "ipython3",
   "version": "3.12.3"
  }
 },
 "nbformat": 4,
 "nbformat_minor": 2
}
