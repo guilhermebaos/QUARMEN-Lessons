{
 "cells": [
  {
   "cell_type": "markdown",
   "id": "a7282537",
   "metadata": {},
   "source": [
    "# Imports"
   ]
  },
  {
   "cell_type": "code",
   "execution_count": 27,
   "id": "79d12a59",
   "metadata": {},
   "outputs": [],
   "source": [
    "import numpy as np\n",
    "import matplotlib.pyplot as plt"
   ]
  },
  {
   "cell_type": "markdown",
   "id": "4f9e577f",
   "metadata": {},
   "source": [
    "# Definitions"
   ]
  },
  {
   "cell_type": "code",
   "execution_count": 28,
   "id": "7f90c5ae",
   "metadata": {},
   "outputs": [],
   "source": [
    "t = 1\n",
    "\n",
    "def epsilon(kx, ky, kz):\n",
    "    return -2 * t * (np.cos(kx) + np.cos(ky) + np.cos(kz))\n",
    "\n",
    "\n",
    "def W_k(kx: float, ky: float, kz: float, U: float, n_e: float) -> float:\n",
    "    \n",
    "    eps_k = epsilon(kx, ky, kz)\n",
    "    return np.sqrt(eps_k**2 + U**2 - 2 * U * eps_k * (1 - n_e))\n",
    "\n",
    "\n",
    "def E_k_pm(kx: float, ky: float, kz: float, mu: float, U: float, n_e: float) -> tuple:\n",
    "\n",
    "\n",
    "    eps_k = epsilon(kx, ky, kz)\n",
    "    W = W_k(kx, ky, kz, U, n_e)\n",
    "\n",
    "    E_plus = 0.5 * (eps_k + U - 2 * mu + W)\n",
    "    E_minus = 0.5 * (eps_k + U - 2 * mu - W)\n",
    "\n",
    "    return E_plus, E_minus\n",
    "\n",
    "\n",
    "def nascent_delta(x, gam: float, func: int) -> float:\n",
    "    \n",
    "    if func == 1:\n",
    "        return gam / (np.pi * (x * x + gam * gam))\n",
    "    elif func == 2:\n",
    "        return np.exp(-x * x / (gam * gam)) / (gam * np.sqrt(np.pi))\n",
    "    else:\n",
    "        return -1.0"
   ]
  },
  {
   "cell_type": "markdown",
   "id": "340acbd5",
   "metadata": {},
   "source": [
    "# Compute DOS"
   ]
  },
  {
   "cell_type": "code",
   "execution_count": null,
   "id": "ca9b1d6d",
   "metadata": {},
   "outputs": [
    {
     "data": {
      "text/plain": [
       "[<matplotlib.lines.Line2D at 0x1d7d4f6d100>]"
      ]
     },
     "execution_count": 29,
     "metadata": {},
     "output_type": "execute_result"
    },
    {
     "data": {
      "image/png": "[encoded data removed]",
      "text/plain": [
       "<Figure size 640x480 with 1 Axes>"
      ]
     },
     "metadata": {},
     "output_type": "display_data"
    },
    {
     "ename": "",
     "evalue": "",
     "output_type": "error",
     "traceback": [
      "\u001b[1;31mThe Kernel crashed while executing code in the current cell or a previous cell. \n",
      "\u001b[1;31mPlease review the code in the cell(s) to identify a possible cause of the failure. \n",
      "\u001b[1;31mClick <a href='https://aka.ms/vscodeJupyterKernelCrash'>here</a> for more info. \n",
      "\u001b[1;31mView Jupyter <a href='command:jupyter.viewOutput'>log</a> for further details."
     ]
    }
   ],
   "source": [
    "# Physical Parameters\n",
    "N = 4000\n",
    "\n",
    "U = 0\n",
    "mu = 0\n",
    "ne = 1\n",
    "\n",
    "\n",
    "# Plotting Parameters\n",
    "emin = -4\n",
    "emax = +4\n",
    "\n",
    "points = 40000\n",
    "gam = 0.01\n",
    "\n",
    "\n",
    "ee = np.linspace(emin, emax, points)\n",
    "dos = np.zeros_like(ee)\n",
    "for m in range(0, N):\n",
    "    # Compute energy for this k\n",
    "    # ek = epsilon(2 * np.pi * m / N, np.pi/2, np.pi/2)\n",
    "    ep, em = E_k_pm(2 * np.pi * m / N, np.pi/2, np.pi/2, mu, U, ne)\n",
    "\n",
    "    # Add a delta at this energy\n",
    "    # dos += nascent_delta(ee - ep, gam, 1) / N\n",
    "    dos += nascent_delta(ee - ep, gam, 1) / N\n",
    "    dos += nascent_delta(ee - em, gam, 1) / N\n",
    "\n",
    "\n",
    "plt.plot(ee, dos)"
   ]
  },
  {
   "cell_type": "code",
   "execution_count": null,
   "id": "c4587085",
   "metadata": {},
   "outputs": [],
   "source": []
  }
 ],
 "metadata": {
  "kernelspec": {
   "display_name": "Python 3",
   "language": "python",
   "name": "python3"
  },
  "language_info": {
   "codemirror_mode": {
    "name": "ipython",
    "version": 3
   },
   "file_extension": ".py",
   "mimetype": "text/x-python",
   "name": "python",
   "nbconvert_exporter": "python",
   "pygments_lexer": "ipython3",
   "version": "3.12.0"
  }
 },
 "nbformat": 4,
 "nbformat_minor": 5
}
