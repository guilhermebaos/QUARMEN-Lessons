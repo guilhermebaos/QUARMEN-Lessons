{
 "cells": [
  {
   "cell_type": "markdown",
   "metadata": {},
   "source": [
    "# Imports"
   ]
  },
  {
   "cell_type": "code",
   "execution_count": 12,
   "metadata": {},
   "outputs": [],
   "source": [
    "import numpy as np\n",
    "import matplotlib.pyplot as plt\n",
    "\n",
    "from typing import Callable"
   ]
  },
  {
   "cell_type": "markdown",
   "metadata": {},
   "source": [
    "# Hydrogen Atom"
   ]
  },
  {
   "cell_type": "markdown",
   "metadata": {},
   "source": [
    "We will start by studying the Hydrogen Atom:\n",
    "\n",
    "$$\n",
    "\\begin{align*}\n",
    "\n",
    "H &= -\\frac12\\nabla^2 - \\frac1r\n",
    "\\\\\\\\\n",
    "\n",
    "\n",
    "\\psi(\\textbf r) &= e^{-\\beta r}\n",
    "\n",
    "\\end{align*}\n",
    "$$"
   ]
  },
  {
   "cell_type": "markdown",
   "metadata": {},
   "source": [
    "# Metropolis Sampling Position"
   ]
  },
  {
   "cell_type": "code",
   "execution_count": 13,
   "metadata": {},
   "outputs": [],
   "source": [
    "def rvec(pos: np.ndarray) -> float:\n",
    "    return np.sqrt(pos[0]**2 + pos[1]**2 + pos[2]**2)\n",
    "\n",
    "\n",
    "def r3(x: float, y: float, z:float) -> float:\n",
    "    return np.sqrt(x**2 + y**2 + z**2)\n",
    "\n",
    "\n",
    "def samplePos(M: int, beta: float, delta: float = 0.5) -> np.ndarray:\n",
    "    \"\"\"\n",
    "        Samples M positions taking as the desired distribution psi, assuming psi is real!\n",
    "    \"\"\"\n",
    "\n",
    "    # List of samples\n",
    "    samples = np.zeros((M), dtype=float)\n",
    "\n",
    "    # Starting position\n",
    "    x, y, z = 10, 0.1, 0.01\n",
    "    rpos = r3(x, y, z)\n",
    "    samples[0] = rpos\n",
    "\n",
    "    logpsi = -beta * rpos\n",
    "\n",
    "    # Metropolis Loop\n",
    "    succ = 0\n",
    "    for attempt in range(M-1):\n",
    "        xp = x + delta*(np.random.random() - 0.5)\n",
    "        yp = y + delta*(np.random.random() - 0.5)\n",
    "        zp = z + delta*(np.random.random() - 0.5)\n",
    "\n",
    "        rposp = r3(xp, yp, zp)\n",
    "        logpsip = -beta * rposp\n",
    "\n",
    "        accept = min(1, np.exp(2 * (logpsip - logpsi)))\n",
    "\n",
    "        # Accept step\n",
    "        if accept > np.random.random():\n",
    "            succ += 1\n",
    "\n",
    "            x, y, z = xp, yp, zp\n",
    "            rpos = rposp\n",
    "            logpsi = logpsip\n",
    "        \n",
    "        # Save state\n",
    "        samples[attempt+1] = rpos\n",
    "    \n",
    "    print(f\"Acceptance: {succ / attempt}\")\n",
    "    return samples"
   ]
  },
  {
   "cell_type": "code",
   "execution_count": 14,
   "metadata": {},
   "outputs": [],
   "source": [
    "def sampleNeff(data: np.ndarray, k1: int = 0, icutoff: int = 200) -> int:\n",
    "    # Raw data\n",
    "    N = len(data)\n",
    "    k2 = N-1\n",
    "\n",
    "    # icutoff = int(k2 * icutoff)\n",
    "    Neq = k2 - k1 + 1\n",
    "\n",
    "    # Calculate Stats\n",
    "    ave = np.mean(data)\n",
    "    var = np.var(data, mean=ave, ddof=1)\n",
    "\n",
    "    # Calculate autocorrelations and cutoff\n",
    "    autocorr = np.array([np.sum((data[k1: k2-i]-ave) * (data[k1 + i: k2]-ave)) / (Neq - i) for i in range(1, Neq)]) / (var)\n",
    "    autocorr = autocorr[:icutoff]\n",
    "\n",
    "    # Calculate autocorrelation time (sum until we find some negative number)\n",
    "    timecorr = 1\n",
    "    for item in autocorr:\n",
    "        timecorr += 2 * item\n",
    "        if item < 0:\n",
    "            break\n",
    "\n",
    "    Neff = Neq / timecorr\n",
    "    print(f\"Neff: {Neff}\")\n",
    "\n",
    "    return Neff"
   ]
  },
  {
   "cell_type": "markdown",
   "metadata": {},
   "source": [
    "## No Reweighting"
   ]
  },
  {
   "cell_type": "code",
   "execution_count": 15,
   "metadata": {},
   "outputs": [
    {
     "name": "stdout",
     "output_type": "stream",
     "text": [
      "Beta = 0.200\n",
      "Acceptance: 0.8883184424589945\n",
      "Neff: 242.86345160121618\n",
      "Energy = -0.16478955386955113\n",
      "Variance on Energy = 0.017255997093926254\n",
      "Standard Deviation on Mean Energy = 0.008429250259864267\n",
      "\n",
      "Beta = 0.300\n",
      "Acceptance: 0.8279770636084811\n",
      "Neff: 527.2661787292126\n",
      "Energy = -0.27066012393898525\n",
      "Variance on Energy = 0.0566797680100845\n",
      "Standard Deviation on Mean Energy = 0.010368097550857134\n",
      "\n",
      "Beta = 0.400\n",
      "Acceptance: 0.7789038538471796\n",
      "Neff: 536.7899769442205\n",
      "Energy = -0.3121134671477671\n",
      "Variance on Energy = 0.04143178060212084\n",
      "Standard Deviation on Mean Energy = 0.008785461909074782\n",
      "\n",
      "Beta = 0.500\n",
      "Acceptance: 0.7230297372983064\n",
      "Neff: 534.6811152384215\n",
      "Energy = -0.36602207077665216\n",
      "Variance on Energy = 0.040106116350138866\n",
      "Standard Deviation on Mean Energy = 0.008660797454031711\n",
      "\n",
      "Beta = 0.600\n",
      "Acceptance: 0.6784237898386452\n",
      "Neff: 1011.7585184179343\n",
      "Energy = -0.4044792372704043\n",
      "Variance on Energy = 0.04823096872723838\n",
      "Standard Deviation on Mean Energy = 0.006904377961760437\n",
      "\n",
      "Beta = 0.700\n",
      "Acceptance: 0.6326843579143886\n",
      "Neff: 1236.7973435667968\n",
      "Energy = -0.4487295421398674\n",
      "Variance on Energy = 0.04833208714465725\n",
      "Standard Deviation on Mean Energy = 0.006251273541261127\n",
      "\n",
      "Beta = 0.800\n",
      "Acceptance: 0.5829443925856781\n",
      "Neff: 976.2515686862849\n",
      "Energy = -0.4807176744958815\n",
      "Variance on Energy = 0.033881909717985666\n",
      "Standard Deviation on Mean Energy = 0.005891190521601304\n",
      "\n",
      "Beta = 0.900\n",
      "Acceptance: 0.5510068009067876\n",
      "Neff: 1160.5424473714927\n",
      "Energy = -0.4949880362457741\n",
      "Variance on Energy = 0.007153401325959471\n",
      "Standard Deviation on Mean Energy = 0.0024827087830354756\n",
      "\n",
      "Beta = 1.000\n",
      "Acceptance: 0.50593412454994\n"
     ]
    },
    {
     "name": "stderr",
     "output_type": "stream",
     "text": [
      "/tmp/ipykernel_27416/164870256.py:14: RuntimeWarning: invalid value encountered in divide\n",
      "  autocorr = np.array([np.sum((data[k1: k2-i]-ave) * (data[k1 + i: k2]-ave)) / (Neq - i) for i in range(1, Neq)]) / (var)\n"
     ]
    },
    {
     "name": "stdout",
     "output_type": "stream",
     "text": [
      "Neff: nan\n",
      "Energy = -0.5\n",
      "Variance on Energy = 0.0\n",
      "Standard Deviation on Mean Energy = nan\n",
      "\n",
      "Beta = 1.100\n",
      "Acceptance: 0.47079610614748635\n",
      "Neff: 905.356298364542\n",
      "Energy = -0.4971860494282001\n",
      "Variance on Energy = 0.008663851058541998\n",
      "Standard Deviation on Mean Energy = 0.0030934686933848567\n",
      "\n",
      "Beta = 1.200\n",
      "Acceptance: 0.4461261501533538\n",
      "Neff: 1014.4552691301143\n",
      "Energy = -0.4816371253783543\n",
      "Variance on Energy = 0.05170577386433462\n",
      "Standard Deviation on Mean Energy = 0.007139257889003768\n",
      "\n",
      "Beta = 1.300\n",
      "Acceptance: 0.40072009601280173\n",
      "Neff: 989.1008736886168\n",
      "Energy = -0.4597324059844267\n",
      "Variance on Energy = 0.09752522583542594\n",
      "Standard Deviation on Mean Energy = 0.009929747145018458\n",
      "\n",
      "Beta = 1.400\n",
      "Acceptance: 0.3834511268169089\n",
      "Neff: 637.6809166054394\n",
      "Energy = -0.4156130904995334\n",
      "Variance on Energy = 0.2698737478249155\n",
      "Standard Deviation on Mean Energy = 0.02057209920482318\n",
      "\n",
      "Beta = 1.500\n",
      "Acceptance: 0.3529803973863182\n",
      "Neff: 640.5491630038341\n",
      "Energy = -0.3790938425777962\n",
      "Variance on Energy = 0.37631065034575634\n",
      "Standard Deviation on Mean Energy = 0.024238013382724945\n",
      "\n",
      "Beta = 1.600\n",
      "Acceptance: 0.32711028137084946\n",
      "Neff: 559.5173352282035\n",
      "Energy = -0.3690096362688602\n",
      "Variance on Energy = 0.4597729494905763\n",
      "Standard Deviation on Mean Energy = 0.028665857313106325\n",
      "\n",
      "Beta = 1.700\n",
      "Acceptance: 0.307641018802507\n",
      "Neff: 513.9938377530075\n",
      "Energy = -0.30330712584665004\n",
      "Variance on Energy = 1.0525098077529744\n",
      "Standard Deviation on Mean Energy = 0.04525161876076974\n",
      "\n",
      "Best beta: 1.0\n"
     ]
    },
    {
     "data": {
      "text/plain": [
       "Text(0.5, 1.0, 'Parameter Sweep')"
      ]
     },
     "execution_count": 15,
     "metadata": {},
     "output_type": "execute_result"
    },
    {
     "data": {
      "image/png": "[encoded data removed]",
      "text/plain": [
       "<Figure size 640x480 with 1 Axes>"
      ]
     },
     "metadata": {},
     "output_type": "display_data"
    }
   ],
   "source": [
    "# Parameters\n",
    "sampleM = 15000\n",
    "discard = 1500\n",
    "delta = 2.4\n",
    "\n",
    "# Sweep Variational Parameter\n",
    "betaMin = 0.2\n",
    "betaMax = 1.7\n",
    "\n",
    "Ebeta = []\n",
    "Estd = []\n",
    "Evar = []\n",
    "bbRange = np.linspace(betaMin, betaMax, 16)\n",
    "for betaStart in bbRange:\n",
    "    print(f\"Beta = {betaStart:.3f}\")\n",
    "    Rs = samplePos(sampleM, betaStart, delta)\n",
    "    Rs = Rs[discard:]\n",
    "    El = -0.5*betaStart*(betaStart - 2/Rs) - 1.0 / Rs\n",
    "\n",
    "    Neff = sampleNeff(El)\n",
    "\n",
    "    Evar += [np.var(El)]\n",
    "    Estd += [np.std(El) / np.sqrt(Neff)]\n",
    "    Ebeta += [np.average(El)]\n",
    "    print(f\"Energy = {Ebeta[-1]}\")\n",
    "    print(f\"Variance on Energy = {Evar[-1]}\")\n",
    "    print(f\"Standard Deviation on Mean Energy = {Estd[-1]}\")\n",
    "    print(\"\")\n",
    "\n",
    "print(f\"Best beta: {bbRange[Ebeta.index(np.min(Ebeta))]}\")\n",
    "plt.errorbar(bbRange, Ebeta, yerr=Estd, ecolor=\"black\")\n",
    "plt.xlabel(\"Value of $\\\\beta$\")\n",
    "plt.ylabel(\"Energy $E(\\\\beta)$\")\n",
    "plt.title(\"Parameter Sweep\")"
   ]
  },
  {
   "cell_type": "markdown",
   "metadata": {},
   "source": [
    "# With Reweighting"
   ]
  },
  {
   "cell_type": "code",
   "execution_count": 16,
   "metadata": {},
   "outputs": [
    {
     "name": "stdout",
     "output_type": "stream",
     "text": [
      "BetaMid = 2.000\n",
      "Acceptance: 0.4360726787797966\n",
      "Neff: 645.6010133962382\n",
      "\n",
      "BetaMid = 1.400\n",
      "Acceptance: 0.5705117519586598\n",
      "Neff: 890.0474132664854\n",
      "\n",
      "BetaMid = 1.000\n",
      "Acceptance: 0.6917819636606101\n",
      "Neff: 212.3810782252111\n",
      "\n",
      "BetaMid = 1.000\n",
      "Acceptance: 0.6936989498249708\n"
     ]
    },
    {
     "name": "stderr",
     "output_type": "stream",
     "text": [
      "/tmp/ipykernel_27416/164870256.py:14: RuntimeWarning: invalid value encountered in divide\n",
      "  autocorr = np.array([np.sum((data[k1: k2-i]-ave) * (data[k1 + i: k2]-ave)) / (Neq - i) for i in range(1, Neq)]) / (var)\n"
     ]
    },
    {
     "name": "stdout",
     "output_type": "stream",
     "text": [
      "Neff: nan\n",
      "\n",
      "BetaMid = 0.875\n",
      "Acceptance: 0.7232038673112186\n",
      "Neff: 526.1706683689359\n",
      "\n",
      "Final beta: 0.9375\n",
      "Minimum energy: -0.49427464053076964\n"
     ]
    },
    {
     "data": {
      "text/plain": [
       "<matplotlib.legend.Legend at 0x7fc2571864e0>"
      ]
     },
     "execution_count": 16,
     "metadata": {},
     "output_type": "execute_result"
    },
    {
     "data": {
      "image/png": "[encoded data removed]",
      "text/plain": [
       "<Figure size 640x480 with 1 Axes>"
      ]
     },
     "metadata": {},
     "output_type": "display_data"
    }
   ],
   "source": [
    "# Sampling Parameters\n",
    "sampleM = 12000\n",
    "discard = 2000\n",
    "\n",
    "delta = 1.4\n",
    "\n",
    "# Target Function is energy + stdW * std\n",
    "stdW = 2\n",
    "\n",
    "# Starting Variational Parameters\n",
    "betaStart = 2\n",
    "\n",
    "betaRange = 1\n",
    "betaSamples = 11\n",
    "betaMult = 0.5\n",
    "\n",
    "betaSteps = 5\n",
    "\n",
    "betaMid = betaStart\n",
    "for _ in range(betaSteps):\n",
    "    betaMin = betaMid - betaRange\n",
    "    betaMax = betaMid + betaRange\n",
    "\n",
    "    Ebeta = []\n",
    "    Estd = []\n",
    "    bb = []\n",
    "    bbRange = np.linspace(betaMin, betaMax, betaSamples)\n",
    "    \n",
    "    print(f\"BetaMid = {betaMid:.3f}\")\n",
    "    Rs = samplePos(sampleM, betaMid, delta=delta)\n",
    "    Rs = Rs[discard:]\n",
    "    El = -0.5*betaMid*(betaMid - 2/Rs) - 1.0 / Rs\n",
    "    Neff = sampleNeff(El)\n",
    "    for beta in bbRange:\n",
    "        # Calculate weights\n",
    "        ww = np.exp(-2 * (beta - betaMid) * Rs)\n",
    "\n",
    "        # Effective number of points\n",
    "        m = ((np.sum(ww))**2 / np.sum(ww**2)) / len(Rs)\n",
    "        if m < 0.5:\n",
    "            continue\n",
    "\n",
    "        bb += [beta]\n",
    "\n",
    "        El = -0.5*beta*(beta - 2/Rs) - 1.0 / Rs\n",
    "        Estd += [np.std(El) / np.sqrt(Neff)]\n",
    "        Ebeta += [(np.sum(El * ww)) / (np.sum(ww))]\n",
    "    \n",
    "    # Plot results\n",
    "    plt.errorbar(bb, Ebeta, yerr=Estd, ecolor=\"black\", label=f\"BetaMid = {betaMid:.4f}\")\n",
    "    \n",
    "    # Target function\n",
    "    target = [Ebeta[i] + stdW * Estd[i] for i in range(len(bb))]\n",
    "\n",
    "    betaMini = bb[target.index(min(target))]\n",
    "    betaMid = betaMini\n",
    "    betaRange *= betaMult\n",
    "    print(\"\")\n",
    "\n",
    "\n",
    "print(f\"Final beta: {betaMini}\")\n",
    "print(f\"Minimum energy: {min(Ebeta)}\")\n",
    "\n",
    "plt.xlabel(\"Value of $\\\\beta$\")\n",
    "plt.ylabel(\"Energy $E(\\\\beta)$\")\n",
    "plt.title(\"Parameter Sweep\")\n",
    "plt.legend()"
   ]
  },
  {
   "cell_type": "code",
   "execution_count": null,
   "metadata": {},
   "outputs": [],
   "source": []
  }
 ],
 "metadata": {
  "kernelspec": {
   "display_name": "venv",
   "language": "python",
   "name": "python3"
  },
  "language_info": {
   "codemirror_mode": {
    "name": "ipython",
    "version": 3
   },
   "file_extension": ".py",
   "mimetype": "text/x-python",
   "name": "python",
   "nbconvert_exporter": "python",
   "pygments_lexer": "ipython3",
   "version": "3.12.3"
  }
 },
 "nbformat": 4,
 "nbformat_minor": 2
}
