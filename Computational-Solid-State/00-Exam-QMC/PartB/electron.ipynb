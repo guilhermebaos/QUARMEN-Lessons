{
 "cells": [
  {
   "cell_type": "markdown",
   "metadata": {},
   "source": [
    "# Exam Part B\n",
    "\n",
    "Here we will explain our thinking for the question B of the Exam."
   ]
  },
  {
   "cell_type": "markdown",
   "metadata": {},
   "source": [
    "# Question B1\n",
    "\n",
    "We can now calculate some reference values for the **2D Gas**! In our units we have:\n",
    "\n",
    "$$\n",
    "\\lambda = \\frac1{r_s^2}\n",
    "$$"
   ]
  },
  {
   "cell_type": "markdown",
   "metadata": {},
   "source": [
    "First we calculate the Fermi wave vector $k_F$ where $N_k$ is the total number of k-states inside the Fermi surface and $V_k$ is the volume occupied by each k-state (using 2D volumes):   \n",
    "$$\n",
    "\\begin{align*}\n",
    "\n",
    "V_F = \\pi k_F^2 &\\hArr N_k V_k = \\pi k_F^2\n",
    "\\\\\\\\\n",
    "\n",
    "&\\hArr k_F^2 = \\frac{N_k \\cdot \\frac{4\\pi^2}{V}}{\\pi}\n",
    "\\\\\\\\\n",
    "\n",
    "&\\hArr k_F^2 = \\frac{4\\pi N_k}{V}\n",
    "\n",
    "\\end{align*}\n",
    "$$\n",
    "\n",
    "Then the energy (assuming two electrons in each state):\n",
    "\n",
    "$$\n",
    "\\begin{align*}\n",
    "\n",
    "E &= 2\\lambda \\cdot \\sum_{|\\textbf k| \\le k_F} k_j^2\n",
    "\\\\\\\\\n",
    "\n",
    "&= 2\\lambda \\cdot \\frac{V}{(2\\pi)^2} \\int_0^{k_F}\\int_0^{2\\pi}k^2\\cdot k\\ d\\theta\\ dk\n",
    "\\\\\\\\\n",
    "\n",
    "&= \\lambda \\frac V\\pi \\cdot \\left[\\frac14k^4\\right]_0^{k_F}\n",
    "\n",
    "\\end{align*}\n",
    "$$\n",
    "\n",
    "If the total number of electrons is $N$ we can write, in the **thermodynamic limit**:\n",
    "- **Unpolarized gas**: In this case we have that $N = 2N_k$ and as such:\n",
    "    $$\n",
    "    \\begin{align*}\n",
    "    k_F^2 = 2\\pi n\n",
    "    \\end{align*}\n",
    "    $$\n",
    "        \n",
    "    Meaning (remembering density is a constant equal to $1/\\pi)$:\n",
    "    $$\n",
    "    \\begin{align*}\n",
    "    \\frac EN &= \\lambda \\cdot \\frac VN \\cdot \\pi n^2\n",
    "    \\\\\\\\\n",
    "    &= \\lambda\n",
    "    \\end{align*}\n",
    "    $$\n",
    "    \n",
    "- **Polarized gas**: In this case we have that $N = N_k$ and as such:\n",
    "    \n",
    "    $$\n",
    "    \\begin{align*}\n",
    "    k_F^2 = 4\\pi n\n",
    "    \\end{align*}\n",
    "    $$\n",
    "    \n",
    "    Meaning (we have to divide the energy by 2 because now there is only one electron in each k-state):\n",
    "    \n",
    "    $$\n",
    "    \\begin{align*}\n",
    "    \\frac EN &= \\frac12 \\cdot 4\\lambda \\cdot \\frac VN \\cdot \\pi n^2\n",
    "    \\\\\\\\\n",
    "    &= 2\\lambda\n",
    "    \\end{align*}\n",
    "    $$"
   ]
  },
  {
   "cell_type": "markdown",
   "metadata": {},
   "source": [
    "Now we can calculate the expected value for $N = 21$ (I drew a simple grid on paper to see the distances and multiplicity) and we see a value close to $2$ as expected!"
   ]
  },
  {
   "cell_type": "code",
   "execution_count": 10,
   "metadata": {},
   "outputs": [
    {
     "name": "stdout",
     "output_type": "stream",
     "text": [
      "Energy per particle for polarized gas with rs = 1 is E = 1.938 (in units of lambda)\n"
     ]
    }
   ],
   "source": [
    "import numpy as np\n",
    "\n",
    "# Parameters\n",
    "N = 21\n",
    "W = np.array([1, 4, 4, 4, 8])\n",
    "D = np.array([0, 1, (1+1)**0.5, 2, (4+1)**0.5])\n",
    "rs = 1\n",
    "\n",
    "# V = N * pi * rs**2 therefore L = (N * pi)**0.5 * rs\n",
    "L = np.sqrt(N * np.pi) * rs\n",
    "\n",
    "# E in units of lambda\n",
    "Epol = (np.sum(W * D**2) * (2 * np.pi / L)**2) / N\n",
    "\n",
    "print(f\"Energy per particle for polarized gas with rs = {rs} is E = {Epol:.3f} (in units of lambda)\")"
   ]
  },
  {
   "cell_type": "markdown",
   "metadata": {},
   "source": [
    "# Question B2\n",
    "\n",
    "We used `polrs5` for the ID of the simulation.\n",
    "\n",
    "---\n",
    "\n",
    "We used the following code (in `polrs5.in`) to optimize the wave function:\n",
    "```\n",
    "vmc 20 500 1.0 20\n",
    "optimize 500 polrs5.u3 polrs5.b\n",
    "```\n",
    "\n",
    "The optimization process indicated that the variational parameters converged! Then we ran the command `vmc 20 500 1.0 20` and got the results in file `polrs5.outB2` where the result for the last block was:\n",
    "```\n",
    " ===>> vmc block           20\n",
    " -0.29204831908E+00 0.500E+03 -0.29200970870E+00 0.18E-03  elocal              \n",
    "  0.52769122115E+00 0.500E+03  0.54007646940E+00 0.38E-02  acc.rate            \n",
    " -0.38559772710E+00 0.500E+03 -0.38630283138E+00 0.37E-03  epot                \n",
    "  0.93549408024E-01 0.500E+03  0.94293122677E-01 0.50E-03  ekin                \n",
    "  0.85458683021E-01 0.500E+03  0.85352788475E-01 0.11E-03  e2\n",
    "```\n",
    "\n",
    "We see that the acceptance rate is about 50% as desired."
   ]
  },
  {
   "cell_type": "markdown",
   "metadata": {},
   "source": [
    "# Question B3\n",
    "\n",
    "We used the following command to run the DMC simmulation (we use `0.1` for the time step which is about one tenth of the time step used in VMC and use the VMC energy as the trial energy `-0.292` for our DMC):\n",
    "```\n",
    "dmc 20 50 0.1 50 -0.292\n",
    "```\n",
    "\n",
    "We got the results in file `polrs5.outB3` where the result for the last block was:\n",
    "```\n",
    " ===>> dmc block           20\n",
    " -0.29255323809E+00 0.249E+04 -0.29297261163E+00 0.10E-03  elocal              \n",
    "  0.96399231351E+00 0.249E+04  0.97053988588E+00 0.61E-03  acc.rate            \n",
    " -0.38593614286E+00 0.249E+04 -0.38512068292E+00 0.33E-03  epot                \n",
    "  0.93382904773E-01 0.249E+04  0.92148071284E-01 0.39E-03  ekin                \n",
    "  0.85682558702E-01 0.249E+04  0.85929193791E-01 0.63E-04  e2  \n",
    "```\n",
    "\n",
    "We expect to see a dependency of the energy on:\n",
    "- The time step, because DMC is only exact in the zero time step limit, meaning that a finite time step introduces errors.\n",
    "- The number of walkers, because our DMC simulation controls the population of walkers by adjusting the potential, which introduces a bias. This bias vanishes when the number of walkers increases to infinity because the variance on the number of walkers will go to zero (thanks to the central limit theorem)."
   ]
  },
  {
   "cell_type": "markdown",
   "metadata": {},
   "source": [
    "Finaly we calculate the extrapolated estimator:"
   ]
  },
  {
   "cell_type": "code",
   "execution_count": 11,
   "metadata": {},
   "outputs": [
    {
     "name": "stdout",
     "output_type": "stream",
     "text": [
      "Extrapolated Energy = -0.2939\n"
     ]
    }
   ],
   "source": [
    "# From DMC\n",
    "Emixed = -0.29297261163\n",
    "\n",
    "# From VMC\n",
    "Evar = -0.29200970870\n",
    "\n",
    "# Extrapolated energy\n",
    "print(f\"Extrapolated Energy = {2 * Emixed - Evar:.4f}\")"
   ]
  },
  {
   "cell_type": "markdown",
   "metadata": {},
   "source": [
    "# Question B4"
   ]
  },
  {
   "cell_type": "code",
   "execution_count": 13,
   "metadata": {},
   "outputs": [
    {
     "name": "stdout",
     "output_type": "stream",
     "text": [
      "Energy per particle in the thermodynamic limit E = -0.2962\n"
     ]
    }
   ],
   "source": [
    "# Parameter\n",
    "N = 21\n",
    "\n",
    "# From Ref [1]\n",
    "b1 = 0.0442\n",
    "b2 = 0.0465\n",
    "\n",
    "# From B1\n",
    "rs = 5.0\n",
    "DeltaTN = (2 - Epol) * (1/rs**2)\n",
    "\n",
    "# From B3\n",
    "EN = -0.2939\n",
    "\n",
    "Einfty = EN - b1 * DeltaTN - b2 * (1/N)\n",
    "print(f\"Energy per particle in the thermodynamic limit E = {Einfty:.4f}\")"
   ]
  },
  {
   "cell_type": "markdown",
   "metadata": {},
   "source": [
    "# Question B5"
   ]
  },
  {
   "cell_type": "code",
   "execution_count": 14,
   "metadata": {},
   "outputs": [
    {
     "name": "stdout",
     "output_type": "stream",
     "text": [
      "Correlation energy at xi = 0: -0.1361\n",
      "Correlation energy at xi = 1: -0.1167\n"
     ]
    }
   ],
   "source": [
    "def EHF(xi):\n",
    "    return (1/rs**2) * ((1+xi)**2 + (1-xi)**2) - (4 * 2**0.5) / (3 * np.pi * rs) * ((1+xi)**(3/2) + (1-xi)**(3/2))\n",
    "\n",
    "\n",
    "Ec0 = Einfty - EHF(0)\n",
    "Ec1 = Einfty - EHF(1)\n",
    "\n",
    "print(f\"Correlation energy at xi = 0: {Ec0:.4f}\")\n",
    "print(f\"Correlation energy at xi = 1: {Ec1:.4f}\")"
   ]
  },
  {
   "cell_type": "code",
   "execution_count": null,
   "metadata": {},
   "outputs": [],
   "source": []
  }
 ],
 "metadata": {
  "kernelspec": {
   "display_name": "venv",
   "language": "python",
   "name": "python3"
  },
  "language_info": {
   "codemirror_mode": {
    "name": "ipython",
    "version": 3
   },
   "file_extension": ".py",
   "mimetype": "text/x-python",
   "name": "python",
   "nbconvert_exporter": "python",
   "pygments_lexer": "ipython3",
   "version": "3.12.3"
  }
 },
 "nbformat": 4,
 "nbformat_minor": 2
}
