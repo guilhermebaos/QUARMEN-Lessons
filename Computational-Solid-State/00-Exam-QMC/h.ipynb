{
 "cells": [
  {
   "cell_type": "markdown",
   "metadata": {},
   "source": [
    "# Imports"
   ]
  },
  {
   "cell_type": "code",
   "execution_count": 14,
   "metadata": {},
   "outputs": [],
   "source": [
    "import numpy as np\n",
    "import matplotlib.pyplot as plt\n",
    "\n",
    "from typing import Callable"
   ]
  },
  {
   "cell_type": "markdown",
   "metadata": {},
   "source": [
    "# Hydrogen Atom"
   ]
  },
  {
   "cell_type": "markdown",
   "metadata": {},
   "source": [
    "We will start by studying the Hydrogen Atom:\n",
    "\n",
    "$$\n",
    "\\begin{align*}\n",
    "\n",
    "H &= -\\frac12\\nabla^2 - \\frac1r\n",
    "\\\\\\\\\n",
    "\n",
    "\n",
    "\\psi(\\textbf r) &= e^{-\\beta r}\n",
    "\n",
    "\\end{align*}\n",
    "$$"
   ]
  },
  {
   "cell_type": "markdown",
   "metadata": {},
   "source": [
    "# Metropolis Sampling Position"
   ]
  },
  {
   "cell_type": "code",
   "execution_count": 15,
   "metadata": {},
   "outputs": [],
   "source": [
    "def rvec(pos: np.ndarray) -> float:\n",
    "    return np.sqrt(pos[0]**2 + pos[1]**2 + pos[2]**2)\n",
    "\n",
    "\n",
    "def r3(x: float, y: float, z:float) -> float:\n",
    "    return np.sqrt(x**2 + y**2 + z**2)\n",
    "\n",
    "\n",
    "def samplePos(M: int, beta: float, delta: float = 0.5) -> np.ndarray:\n",
    "    \"\"\"\n",
    "        Samples M positions taking as the desired distribution psi, assuming psi is real!\n",
    "    \"\"\"\n",
    "\n",
    "    # List of samples\n",
    "    samples = np.zeros((M), dtype=float)\n",
    "\n",
    "    # Starting position\n",
    "    x, y, z = 10, 0.1, 0.01\n",
    "    rpos = r3(x, y, z)\n",
    "    samples[0] = rpos\n",
    "\n",
    "    logpsi = -beta * rpos\n",
    "\n",
    "    # Metropolis Loop\n",
    "    succ = 0\n",
    "    for attempt in range(M-1):\n",
    "        xp = x + delta*(np.random.random() - 0.5)\n",
    "        yp = y + delta*(np.random.random() - 0.5)\n",
    "        zp = z + delta*(np.random.random() - 0.5)\n",
    "\n",
    "        rposp = r3(xp, yp, zp)\n",
    "        logpsip = -beta * rposp\n",
    "\n",
    "        accept = min(1, np.exp(2 * (logpsip - logpsi)))\n",
    "\n",
    "        # Accept step\n",
    "        if accept > np.random.random():\n",
    "            succ += 1\n",
    "\n",
    "            x, y, z = xp, yp, zp\n",
    "            rpos = rposp\n",
    "            logpsi = logpsip\n",
    "        \n",
    "        # Save state\n",
    "        samples[attempt+1] = rpos\n",
    "    \n",
    "    print(f\"Acceptance: {succ / attempt}\")\n",
    "    return samples"
   ]
  },
  {
   "cell_type": "code",
   "execution_count": 16,
   "metadata": {},
   "outputs": [],
   "source": [
    "def sampleNeff(data: np.ndarray, k1: int = 0, icutoff: int = 200) -> int:\n",
    "    # Raw data\n",
    "    N = len(data)\n",
    "    k2 = N-1\n",
    "\n",
    "    # icutoff = int(k2 * icutoff)\n",
    "    Neq = k2 - k1 + 1\n",
    "\n",
    "    # Calculate Stats\n",
    "    ave = np.mean(data)\n",
    "    var = np.var(data, mean=ave, ddof=1)\n",
    "\n",
    "    autocorr = np.array([np.sum((data[k1: k2-i]-ave) * (data[k1 + i: k2]-ave)) / (Neq - i) for i in range(1, Neq)]) / (var)\n",
    "    timecorr = 1 + 2 * np.sum(autocorr[:icutoff] * (autocorr[:icutoff] > 0))\n",
    "\n",
    "    Neff = Neq / timecorr\n",
    "    print(f\"Neff: {Neff}\")\n",
    "\n",
    "    return Neff"
   ]
  },
  {
   "cell_type": "markdown",
   "metadata": {},
   "source": [
    "## No Reweighting"
   ]
  },
  {
   "cell_type": "code",
   "execution_count": 17,
   "metadata": {},
   "outputs": [
    {
     "name": "stdout",
     "output_type": "stream",
     "text": [
      "Beta = 0.200\n",
      "Acceptance: 0.8884776955391078\n",
      "Neff: 102.57145605391554\n",
      "Energy = -0.17066498926947068\n",
      "Variance on Energy = 0.022549426098193288\n",
      "Standard Deviation on Mean Energy = 0.014827040925662092\n",
      "\n",
      "Beta = 0.300\n",
      "Acceptance: 0.8335667133426685\n",
      "Neff: 465.53649350302186\n",
      "Energy = -0.260442039931989\n",
      "Variance on Energy = 0.04604475834582781\n",
      "Standard Deviation on Mean Energy = 0.009945193408827484\n",
      "\n",
      "Beta = 0.400\n",
      "Acceptance: 0.7791558311662332\n",
      "Neff: 314.1360110033317\n",
      "Energy = -0.3080838005622475\n",
      "Variance on Energy = 0.04753798589201433\n",
      "Standard Deviation on Mean Energy = 0.012301597876725204\n",
      "\n",
      "Beta = 0.500\n",
      "Acceptance: 0.7311462292458492\n",
      "Neff: 443.7935391204053\n",
      "Energy = -0.35868209359827125\n",
      "Variance on Energy = 0.04025422060517028\n",
      "Standard Deviation on Mean Energy = 0.009523908701238577\n",
      "\n",
      "Beta = 0.600\n",
      "Acceptance: 0.6595319063812762\n",
      "Neff: 649.2598912407707\n",
      "Energy = -0.4189703327227388\n",
      "Variance on Energy = 0.037561215804480096\n",
      "Standard Deviation on Mean Energy = 0.007606073771516583\n",
      "\n",
      "Beta = 0.700\n",
      "Acceptance: 0.633126625325065\n",
      "Neff: 628.750230764563\n",
      "Energy = -0.45013379456769564\n",
      "Variance on Energy = 0.03936165612259863\n",
      "Standard Deviation on Mean Energy = 0.007912206306074747\n",
      "\n",
      "Beta = 0.800\n",
      "Acceptance: 0.590118023604721\n",
      "Neff: 716.5674071373353\n",
      "Energy = -0.4838929902338107\n",
      "Variance on Energy = 0.06614842670266051\n",
      "Standard Deviation on Mean Energy = 0.009607961062351992\n",
      "\n",
      "Beta = 0.900\n",
      "Acceptance: 0.5549109821964393\n",
      "Neff: 701.6625086977668\n",
      "Energy = -0.4909599841279007\n",
      "Variance on Energy = 0.0050180000726444355\n",
      "Standard Deviation on Mean Energy = 0.002674245019762943\n",
      "\n",
      "Beta = 1.000\n",
      "Acceptance: 0.5103020604120824\n"
     ]
    },
    {
     "name": "stderr",
     "output_type": "stream",
     "text": [
      "/tmp/ipykernel_5508/2147199258.py:13: RuntimeWarning: invalid value encountered in divide\n",
      "  autocorr = np.array([np.sum((data[k1: k2-i]-ave) * (data[k1 + i: k2]-ave)) / (Neq - i) for i in range(1, Neq)]) / (var)\n"
     ]
    },
    {
     "name": "stdout",
     "output_type": "stream",
     "text": [
      "Neff: nan\n",
      "Energy = -0.5\n",
      "Variance on Energy = 0.0\n",
      "Standard Deviation on Mean Energy = nan\n",
      "\n",
      "Beta = 1.100\n",
      "Acceptance: 0.48389677935587116\n",
      "Neff: 526.3965420283649\n",
      "Energy = -0.4996071940609253\n",
      "Variance on Energy = 0.008487542389903954\n",
      "Standard Deviation on Mean Energy = 0.004015452236030954\n",
      "\n",
      "Beta = 1.200\n",
      "Acceptance: 0.4346869373874775\n",
      "Neff: 444.4454986633793\n",
      "Energy = -0.48379019531748046\n",
      "Variance on Energy = 0.036812845355731504\n",
      "Standard Deviation on Mean Energy = 0.009101027721159788\n",
      "\n",
      "Beta = 1.300\n",
      "Acceptance: 0.40658131626325267\n",
      "Neff: 517.4206104034511\n",
      "Energy = -0.4585308160045176\n",
      "Variance on Energy = 0.10815484582795003\n",
      "Standard Deviation on Mean Energy = 0.014457763933471349\n",
      "\n",
      "Beta = 1.400\n",
      "Acceptance: 0.3799759951990398\n",
      "Neff: 613.2550524866539\n",
      "Energy = -0.427079767413787\n",
      "Variance on Energy = 0.20681163885057663\n",
      "Standard Deviation on Mean Energy = 0.0183639846292787\n",
      "\n",
      "Beta = 1.500\n",
      "Acceptance: 0.35317063412682537\n",
      "Neff: 440.5946250989969\n",
      "Energy = -0.3820483785361578\n",
      "Variance on Energy = 0.4741049025794415\n",
      "Standard Deviation on Mean Energy = 0.032803306794124916\n",
      "\n",
      "Beta = 1.600\n",
      "Acceptance: 0.33146629325865173\n",
      "Neff: 429.24268729963865\n",
      "Energy = -0.28414799074992525\n",
      "Variance on Energy = 0.8644228524106021\n",
      "Standard Deviation on Mean Energy = 0.04487574455691286\n",
      "\n",
      "Beta = 1.700\n",
      "Acceptance: 0.30306061212242447\n",
      "Neff: 303.24133026679175\n",
      "Energy = -0.22814581062702852\n",
      "Variance on Energy = 1.8187656318670415\n",
      "Standard Deviation on Mean Energy = 0.07744514066670868\n",
      "\n",
      "Best beta: 1.0\n"
     ]
    },
    {
     "data": {
      "text/plain": [
       "Text(0.5, 1.0, 'Parameter Sweep')"
      ]
     },
     "execution_count": 17,
     "metadata": {},
     "output_type": "execute_result"
    },
    {
     "data": {
      "image/png": "[encoded data removed]",
      "text/plain": [
       "<Figure size 640x480 with 1 Axes>"
      ]
     },
     "metadata": {},
     "output_type": "display_data"
    }
   ],
   "source": [
    "# Parameters\n",
    "sampleM = 10000\n",
    "discard = 0\n",
    "delta = 2.4\n",
    "\n",
    "# Sweep Variational Parameter\n",
    "betaMin = 0.2\n",
    "betaMax = 1.7\n",
    "\n",
    "Ebeta = []\n",
    "Estd = []\n",
    "Evar = []\n",
    "bbRange = np.linspace(betaMin, betaMax, 16)\n",
    "for betaStart in bbRange:\n",
    "    print(f\"Beta = {betaStart:.3f}\")\n",
    "    Rs = samplePos(sampleM, betaStart, delta)\n",
    "    Rs = Rs[discard:]\n",
    "    El = -0.5*betaStart*(betaStart - 2/Rs) - 1.0 / Rs\n",
    "\n",
    "    Neff = sampleNeff(El)\n",
    "\n",
    "    Evar += [np.var(El)]\n",
    "    Estd += [np.std(El) / np.sqrt(Neff)]\n",
    "    Ebeta += [np.average(El)]\n",
    "    print(f\"Energy = {Ebeta[-1]}\")\n",
    "    print(f\"Variance on Energy = {Evar[-1]}\")\n",
    "    print(f\"Standard Deviation on Mean Energy = {Estd[-1]}\")\n",
    "    print(\"\")\n",
    "\n",
    "print(f\"Best beta: {bbRange[Ebeta.index(np.min(Ebeta))]}\")\n",
    "plt.errorbar(bbRange, Ebeta, yerr=Estd, ecolor=\"black\")\n",
    "plt.xlabel(\"Value of $\\\\beta$\")\n",
    "plt.ylabel(\"Energy $E(\\\\beta)$\")\n",
    "plt.title(\"Parameter Sweep\")"
   ]
  },
  {
   "cell_type": "markdown",
   "metadata": {},
   "source": [
    "# With Reweighting"
   ]
  },
  {
   "cell_type": "code",
   "execution_count": 18,
   "metadata": {},
   "outputs": [
    {
     "name": "stdout",
     "output_type": "stream",
     "text": [
      "BetaMid = 2.000"
     ]
    },
    {
     "name": "stdout",
     "output_type": "stream",
     "text": [
      "\n",
      "Acceptance: 0.45465910985164193\n",
      "Neff: 572.6263513462096\n",
      "\n",
      "BetaMid = 1.600\n",
      "Acceptance: 0.5367561260210035\n",
      "Neff: 675.9281892135748\n",
      "\n",
      "BetaMid = 1.200\n",
      "Acceptance: 0.6331055175862644\n",
      "Neff: 765.187144338194\n",
      "\n",
      "BetaMid = 1.000\n",
      "Acceptance: 0.6808634772462077\n",
      "Neff: 679.0355322988108\n",
      "\n",
      "BetaMid = 1.000\n",
      "Acceptance: 0.6843640606767795\n",
      "Neff: 664.1804966071192\n",
      "\n",
      "Final beta: 1.0000000000000002\n",
      "Minimum energy: -0.5008799747101772\n"
     ]
    },
    {
     "data": {
      "text/plain": [
       "<matplotlib.legend.Legend at 0x7f21a53ff800>"
      ]
     },
     "execution_count": 18,
     "metadata": {},
     "output_type": "execute_result"
    },
    {
     "data": {
      "image/png": "[encoded data removed]",
      "text/plain": [
       "<Figure size 640x480 with 1 Axes>"
      ]
     },
     "metadata": {},
     "output_type": "display_data"
    }
   ],
   "source": [
    "# Sampling Parameters\n",
    "sampleM = 12000\n",
    "discard = 2000\n",
    "\n",
    "delta = 1.4\n",
    "\n",
    "# Target Function is energy + stdW * std\n",
    "stdW = 2\n",
    "\n",
    "# Starting Variational Parameters\n",
    "betaStart = 2\n",
    "\n",
    "betaRange = 1\n",
    "betaSamples = 11\n",
    "betaMult = 0.5\n",
    "\n",
    "betaSteps = 5\n",
    "\n",
    "betaMid = betaStart\n",
    "for _ in range(betaSteps):\n",
    "    betaMin = betaMid - betaRange\n",
    "    betaMax = betaMid + betaRange\n",
    "\n",
    "    Ebeta = []\n",
    "    Estd = []\n",
    "    bb = []\n",
    "    bbRange = np.linspace(betaMin, betaMax, betaSamples)\n",
    "    \n",
    "    print(f\"BetaMid = {betaMid:.3f}\")\n",
    "    Rs = samplePos(sampleM, betaMid, delta=delta)\n",
    "    Rs = Rs[discard:]\n",
    "    El = -0.5*betaMid*(betaMid - 2/Rs) - 1.0 / Rs\n",
    "    Neff = sampleNeff(El)\n",
    "    for beta in bbRange:\n",
    "        # Calculate weights\n",
    "        ww = np.exp(-2 * (beta - betaMid) * Rs)\n",
    "\n",
    "        # Effective number of points\n",
    "        m = ((np.sum(ww))**2 / np.sum(ww**2)) / len(Rs)\n",
    "        if m < 0.5:\n",
    "            continue\n",
    "\n",
    "        bb += [beta]\n",
    "\n",
    "        El = -0.5*beta*(beta - 2/Rs) - 1.0 / Rs\n",
    "        Estd += [np.std(El) / np.sqrt(Neff)]\n",
    "        Ebeta += [(np.sum(El * ww)) / (np.sum(ww))]\n",
    "    \n",
    "    # Plot results\n",
    "    plt.errorbar(bb, Ebeta, yerr=Estd, ecolor=\"black\", label=f\"BetaMid = {betaMid:.4f}\")\n",
    "    \n",
    "    # Target function\n",
    "    target = [Ebeta[i] + stdW * Estd[i] for i in range(len(bb))]\n",
    "\n",
    "    betaMini = bb[target.index(min(target))]\n",
    "    betaMid = betaMini\n",
    "    betaRange *= betaMult\n",
    "    print(\"\")\n",
    "\n",
    "\n",
    "print(f\"Final beta: {betaMini}\")\n",
    "print(f\"Minimum energy: {min(Ebeta)}\")\n",
    "\n",
    "plt.xlabel(\"Value of $\\\\beta$\")\n",
    "plt.ylabel(\"Energy $E(\\\\beta)$\")\n",
    "plt.title(\"Parameter Sweep\")\n",
    "plt.legend()"
   ]
  },
  {
   "cell_type": "code",
   "execution_count": null,
   "metadata": {},
   "outputs": [],
   "source": []
  }
 ],
 "metadata": {
  "kernelspec": {
   "display_name": "venv",
   "language": "python",
   "name": "python3"
  },
  "language_info": {
   "codemirror_mode": {
    "name": "ipython",
    "version": 3
   },
   "file_extension": ".py",
   "mimetype": "text/x-python",
   "name": "python",
   "nbconvert_exporter": "python",
   "pygments_lexer": "ipython3",
   "version": "3.12.3"
  }
 },
 "nbformat": 4,
 "nbformat_minor": 2
}
