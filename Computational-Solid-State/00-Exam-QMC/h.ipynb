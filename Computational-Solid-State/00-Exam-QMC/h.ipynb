{
 "cells": [
  {
   "cell_type": "markdown",
   "metadata": {},
   "source": [
    "# Imports"
   ]
  },
  {
   "cell_type": "code",
   "execution_count": 1,
   "metadata": {},
   "outputs": [],
   "source": [
    "import numpy as np\n",
    "import matplotlib.pyplot as plt\n",
    "\n",
    "from typing import Callable"
   ]
  },
  {
   "cell_type": "markdown",
   "metadata": {},
   "source": [
    "# Hydrogen Atom"
   ]
  },
  {
   "cell_type": "markdown",
   "metadata": {},
   "source": [
    "We will start by studying the Hydrogen Atom:\n",
    "\n",
    "$$\n",
    "\\begin{align*}\n",
    "\n",
    "H &= -\\frac12\\nabla^2 - \\frac1r\n",
    "\\\\\\\\\n",
    "\n",
    "\n",
    "\\psi(\\textbf r) &= e^{-\\beta r}\n",
    "\n",
    "\\end{align*}\n",
    "$$"
   ]
  },
  {
   "cell_type": "markdown",
   "metadata": {},
   "source": [
    "# Metropolis Sampling Position"
   ]
  },
  {
   "cell_type": "code",
   "execution_count": 2,
   "metadata": {},
   "outputs": [],
   "source": [
    "def rvec(pos: np.ndarray) -> float:\n",
    "    return np.sqrt(pos[0]**2 + pos[1]**2 + pos[2]**2)\n",
    "\n",
    "\n",
    "def r3(x: float, y: float, z:float) -> float:\n",
    "    return np.sqrt(x**2 + y**2 + z**2)\n",
    "\n",
    "\n",
    "def samplePos(M: int, beta: float, delta: float = 0.5) -> np.ndarray:\n",
    "    \"\"\"\n",
    "        Samples M positions taking as the desired distribution psi, assuming psi is real!\n",
    "    \"\"\"\n",
    "\n",
    "    # List of samples\n",
    "    samples = np.zeros((M), dtype=float)\n",
    "\n",
    "    # Starting position\n",
    "    x, y, z = 10, 0.1, 0.01\n",
    "    rpos = r3(x, y, z)\n",
    "    samples[0] = rpos\n",
    "\n",
    "    logpsi = -beta * rpos\n",
    "\n",
    "    # Metropolis Loop\n",
    "    succ = 0\n",
    "    for attempt in range(M-1):\n",
    "        xp = x + delta*(np.random.random() - 0.5)\n",
    "        yp = y + delta*(np.random.random() - 0.5)\n",
    "        zp = z + delta*(np.random.random() - 0.5)\n",
    "\n",
    "        rposp = r3(xp, yp, zp)\n",
    "        logpsip = -beta * rposp\n",
    "\n",
    "        accept = min(1, np.exp(2 * (logpsip - logpsi)))\n",
    "\n",
    "        # Accept step\n",
    "        if accept > np.random.random():\n",
    "            succ += 1\n",
    "\n",
    "            x, y, z = xp, yp, zp\n",
    "            rpos = rposp\n",
    "            logpsi = logpsip\n",
    "        \n",
    "        # Save state\n",
    "        samples[attempt+1] = rpos\n",
    "    \n",
    "    print(f\"Acceptance: {succ / attempt}\")\n",
    "    return samples"
   ]
  },
  {
   "cell_type": "code",
   "execution_count": 3,
   "metadata": {},
   "outputs": [],
   "source": [
    "def sampleNeff(data: np.ndarray, k1: int = 0, icutoff: int = 200) -> int:\n",
    "    # Raw data\n",
    "    N = len(data)\n",
    "    k2 = N-1\n",
    "\n",
    "    # icutoff = int(k2 * icutoff)\n",
    "    Neq = k2 - k1 + 1\n",
    "\n",
    "    # Calculate Stats\n",
    "    ave = np.mean(data)\n",
    "    var = np.var(data, mean=ave, ddof=1)\n",
    "\n",
    "    autocorr = np.array([np.sum((data[k1: k2-i]-ave) * (data[k1 + i: k2]-ave)) / (Neq - i) for i in range(1, Neq)]) / (var)\n",
    "    timecorr = 1 + 2 * np.sum(autocorr[:icutoff] * (autocorr[:icutoff] > 0))\n",
    "\n",
    "    Neff = Neq / timecorr\n",
    "    print(f\"Neff: {Neff}\")\n",
    "\n",
    "    return Neff"
   ]
  },
  {
   "cell_type": "markdown",
   "metadata": {},
   "source": [
    "## No Reweighting"
   ]
  },
  {
   "cell_type": "code",
   "execution_count": 13,
   "metadata": {},
   "outputs": [
    {
     "name": "stdout",
     "output_type": "stream",
     "text": [
      "Beta = 0.200\n",
      "Acceptance: 0.8859771954390878\n",
      "Neff: 483.2267740539009\n",
      "Energy = -0.20503572354899774\n",
      "Variance on Energy = 0.09804155484351955\n",
      "Standard Deviation on Mean Energy = 0.01424392244873145\n",
      "\n",
      "Beta = 0.300\n",
      "Acceptance: 0.8335667133426685\n",
      "Neff: 566.2741248615024\n",
      "Energy = -0.2446986203031016\n",
      "Variance on Energy = 0.07543584600958479\n",
      "Standard Deviation on Mean Energy = 0.011541852605056201\n",
      "\n",
      "Beta = 0.400\n",
      "Acceptance: 0.783256651330266\n",
      "Neff: 547.4185653548384\n",
      "Energy = -0.3346294947316831\n",
      "Variance on Energy = 0.07265466201446114\n",
      "Standard Deviation on Mean Energy = 0.011520517350247152\n",
      "\n",
      "Beta = 0.500\n",
      "Acceptance: 0.7224444888977796\n",
      "Neff: 525.536421087481\n",
      "Energy = -0.37523130419142836\n",
      "Variance on Energy = 0.05646442581824598\n",
      "Standard Deviation on Mean Energy = 0.01036539957904379\n",
      "\n",
      "Beta = 0.600\n",
      "Acceptance: 0.6809361872374475\n",
      "Neff: 639.8987328482457\n",
      "Energy = -0.41845261995861627\n",
      "Variance on Energy = 0.053826602891553284\n",
      "Standard Deviation on Mean Energy = 0.009171552589625077\n",
      "\n",
      "Beta = 0.700\n",
      "Acceptance: 0.6332266453290658\n",
      "Neff: 960.2075415859458\n",
      "Energy = -0.45443264843291015\n",
      "Variance on Energy = 0.05018374547883782\n",
      "Standard Deviation on Mean Energy = 0.0072293454811524945\n",
      "\n",
      "Beta = 0.800\n",
      "Acceptance: 0.5744148829765953\n",
      "Neff: 761.4913081076538\n",
      "Energy = -0.48814291888297096\n",
      "Variance on Energy = 0.024759431726799966\n",
      "Standard Deviation on Mean Energy = 0.005702139803910073\n",
      "\n",
      "Beta = 0.900\n",
      "Acceptance: 0.5498099619923985\n",
      "Neff: 649.377502611833\n",
      "Energy = -0.49473866030660374\n",
      "Variance on Energy = 0.005699419935586228\n",
      "Standard Deviation on Mean Energy = 0.002962556960996164\n",
      "\n",
      "Beta = 1.000\n",
      "Acceptance: 0.5165033006601321\n"
     ]
    },
    {
     "name": "stderr",
     "output_type": "stream",
     "text": [
      "/tmp/ipykernel_5508/2147199258.py:13: RuntimeWarning: invalid value encountered in divide\n",
      "  autocorr = np.array([np.sum((data[k1: k2-i]-ave) * (data[k1 + i: k2]-ave)) / (Neq - i) for i in range(1, Neq)]) / (var)\n"
     ]
    },
    {
     "name": "stdout",
     "output_type": "stream",
     "text": [
      "Neff: nan\n",
      "Energy = -0.5\n",
      "Variance on Energy = 0.0\n",
      "Standard Deviation on Mean Energy = nan\n",
      "\n",
      "Beta = 1.100\n",
      "Acceptance: 0.46459291858371676\n",
      "Neff: 565.9071879327456\n",
      "Energy = -0.4961112331801097\n",
      "Variance on Energy = 0.009337779878208942\n",
      "Standard Deviation on Mean Energy = 0.004062086908243539\n",
      "\n",
      "Beta = 1.200\n",
      "Acceptance: 0.4416883376675335\n",
      "Neff: 543.3961547865248\n",
      "Energy = -0.47851182344924464\n",
      "Variance on Energy = 0.05579447484065934\n",
      "Standard Deviation on Mean Energy = 0.010132983060610109\n",
      "\n",
      "Beta = 1.300\n",
      "Acceptance: 0.41838367673534704\n",
      "Neff: 502.8128974544714\n",
      "Energy = -0.49375594581928745\n",
      "Variance on Energy = 0.08749106817285382\n",
      "Standard Deviation on Mean Energy = 0.013191028385270646\n",
      "\n",
      "Beta = 1.400\n",
      "Acceptance: 0.3789757951590318\n",
      "Neff: 458.8035794438455\n",
      "Energy = -0.43301526865093126\n",
      "Variance on Energy = 0.19473629779918689\n",
      "Standard Deviation on Mean Energy = 0.020602031927551938\n",
      "\n",
      "Beta = 1.500\n",
      "Acceptance: 0.3616723344668934\n",
      "Neff: 595.8625170096966\n",
      "Energy = -0.44011179604038286\n",
      "Variance on Energy = 0.23773094202171124\n",
      "Standard Deviation on Mean Energy = 0.019974219690391117\n",
      "\n",
      "Beta = 1.600\n",
      "Acceptance: 0.3368673734746949\n",
      "Neff: 416.8178516436036\n",
      "Energy = -0.3916361192737179\n",
      "Variance on Energy = 0.41444817080939644\n",
      "Standard Deviation on Mean Energy = 0.03153275802761054\n",
      "\n",
      "Beta = 1.700\n",
      "Acceptance: 0.3065613122624525\n",
      "Neff: 148.851702374711\n",
      "Energy = -0.04483192600891235\n",
      "Variance on Energy = 5.336836498683896\n",
      "Standard Deviation on Mean Energy = 0.189349885109335\n",
      "\n",
      "Best beta: 1.0\n"
     ]
    },
    {
     "data": {
      "text/plain": [
       "Text(0.5, 1.0, 'Parameter Sweep')"
      ]
     },
     "execution_count": 13,
     "metadata": {},
     "output_type": "execute_result"
    },
    {
     "data": {
      "image/png": "[encoded data removed]",
      "text/plain": [
       "<Figure size 640x480 with 1 Axes>"
      ]
     },
     "metadata": {},
     "output_type": "display_data"
    }
   ],
   "source": [
    "# Parameters\n",
    "sampleM = 10000\n",
    "discard = 0\n",
    "delta = 2.4\n",
    "\n",
    "# Sweep Variational Parameter\n",
    "betaMin = 0.2\n",
    "betaMax = 1.7\n",
    "\n",
    "Ebeta = []\n",
    "Estd = []\n",
    "Evar = []\n",
    "bbRange = np.linspace(betaMin, betaMax, 16)\n",
    "for betaStart in bbRange:\n",
    "    print(f\"Beta = {betaStart:.3f}\")\n",
    "    Rs = samplePos(sampleM, betaStart, delta)\n",
    "    Rs = Rs[discard:]\n",
    "    El = -0.5*betaStart*(betaStart - 2/Rs) - 1.0 / Rs\n",
    "\n",
    "    Neff = sampleNeff(El)\n",
    "\n",
    "    Evar += [np.var(El)]\n",
    "    Estd += [np.std(El) / np.sqrt(Neff)]\n",
    "    Ebeta += [np.average(El)]\n",
    "    print(f\"Energy = {Ebeta[-1]}\")\n",
    "    print(f\"Variance on Energy = {Evar[-1]}\")\n",
    "    print(f\"Standard Deviation on Mean Energy = {Estd[-1]}\")\n",
    "    print(\"\")\n",
    "\n",
    "print(f\"Best beta: {bbRange[Ebeta.index(np.min(Ebeta))]}\")\n",
    "plt.errorbar(bbRange, Ebeta, yerr=Estd, ecolor=\"black\")\n",
    "plt.xlabel(\"Value of $\\\\beta$\")\n",
    "plt.ylabel(\"Energy $E(\\\\beta)$\")\n",
    "plt.title(\"Parameter Sweep\")"
   ]
  },
  {
   "cell_type": "markdown",
   "metadata": {},
   "source": [
    "# With Reweighting"
   ]
  },
  {
   "cell_type": "code",
   "execution_count": 5,
   "metadata": {},
   "outputs": [
    {
     "name": "stdout",
     "output_type": "stream",
     "text": [
      "BetaMid = 2.000\n",
      "Acceptance: 0.4437406234372395\n",
      "Neff: 384.6580031377697\n",
      "\n",
      "BetaMid = 1.400\n",
      "Acceptance: 0.5757626271045174\n",
      "Neff: 319.28774517266834\n",
      "\n",
      "BetaMid = 1.000\n",
      "Acceptance: 0.6812802133688948\n",
      "Neff: 256.878262663737\n",
      "\n",
      "BetaMid = 1.000\n",
      "Acceptance: 0.6796132688781463\n",
      "Neff: 173.64301430205504\n",
      "\n",
      "BetaMid = 1.000\n",
      "Acceptance: 0.6829471578596433\n",
      "Neff: 263.92836634667003\n",
      "\n",
      "Final beta: 1.0\n",
      "Minimum energy: -0.5001228064928532\n"
     ]
    },
    {
     "data": {
      "text/plain": [
       "<matplotlib.legend.Legend at 0x7f21a7bada30>"
      ]
     },
     "execution_count": 5,
     "metadata": {},
     "output_type": "execute_result"
    },
    {
     "data": {
      "image/png": "[encoded data removed]",
      "text/plain": [
       "<Figure size 640x480 with 1 Axes>"
      ]
     },
     "metadata": {},
     "output_type": "display_data"
    }
   ],
   "source": [
    "# Sampling Parameters\n",
    "sampleM = 12000\n",
    "discard = 2000\n",
    "\n",
    "delta = 1.4\n",
    "\n",
    "# Target Function is energy + stdW * std\n",
    "stdW = 2\n",
    "\n",
    "# Starting Variational Parameters\n",
    "betaStart = 2\n",
    "\n",
    "betaRange = 1\n",
    "betaSamples = 11\n",
    "betaMult = 0.5\n",
    "\n",
    "betaSteps = 5\n",
    "\n",
    "betaMid = betaStart\n",
    "for _ in range(betaSteps):\n",
    "    betaMin = betaMid - betaRange\n",
    "    betaMax = betaMid + betaRange\n",
    "\n",
    "    Ebeta = []\n",
    "    Estd = []\n",
    "    bb = []\n",
    "    bbRange = np.linspace(betaMin, betaMax, betaSamples)\n",
    "    \n",
    "    print(f\"BetaMid = {betaMid:.3f}\")\n",
    "    Rs = samplePos(sampleM, betaMid, delta=delta)\n",
    "    Rs = Rs[discard:]\n",
    "    Neff = sampleNeff(Rs)\n",
    "    for beta in bbRange:\n",
    "        # Calculate weights\n",
    "        ww = np.exp(-2 * (beta - betaMid) * Rs)\n",
    "\n",
    "        # Effective number of points\n",
    "        m = ((np.sum(ww))**2 / np.sum(ww**2)) / len(Rs)\n",
    "        if m < 0.5:\n",
    "            continue\n",
    "\n",
    "        bb += [beta]\n",
    "\n",
    "        El = -0.5*beta*(beta - 2/Rs) - 1.0 / Rs\n",
    "        Estd += [np.std(El) / np.sqrt(Neff)]\n",
    "        Ebeta += [(np.sum(El * ww)) / (np.sum(ww))]\n",
    "    \n",
    "    # Plot results\n",
    "    plt.errorbar(bb, Ebeta, yerr=Estd, ecolor=\"black\", label=f\"BetaMid = {betaMid:.4f}\")\n",
    "    \n",
    "    # Target function\n",
    "    target = [Ebeta[i] + stdW * Estd[i] for i in range(len(bb))]\n",
    "\n",
    "    betaMini = bb[target.index(min(target))]\n",
    "    betaMid = betaMini\n",
    "    betaRange *= betaMult\n",
    "    print(\"\")\n",
    "\n",
    "\n",
    "print(f\"Final beta: {betaMini}\")\n",
    "print(f\"Minimum energy: {min(Ebeta)}\")\n",
    "\n",
    "plt.xlabel(\"Value of $\\\\beta$\")\n",
    "plt.ylabel(\"Energy $E(\\\\beta)$\")\n",
    "plt.title(\"Parameter Sweep\")\n",
    "plt.legend()"
   ]
  },
  {
   "cell_type": "code",
   "execution_count": null,
   "metadata": {},
   "outputs": [],
   "source": []
  }
 ],
 "metadata": {
  "kernelspec": {
   "display_name": "venv",
   "language": "python",
   "name": "python3"
  },
  "language_info": {
   "codemirror_mode": {
    "name": "ipython",
    "version": 3
   },
   "file_extension": ".py",
   "mimetype": "text/x-python",
   "name": "python",
   "nbconvert_exporter": "python",
   "pygments_lexer": "ipython3",
   "version": "3.12.3"
  }
 },
 "nbformat": 4,
 "nbformat_minor": 2
}
