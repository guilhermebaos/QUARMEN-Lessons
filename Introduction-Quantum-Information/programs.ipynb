{
 "cells": [
  {
   "cell_type": "markdown",
   "id": "f4413e91",
   "metadata": {},
   "source": [
    "# Imports"
   ]
  },
  {
   "cell_type": "code",
   "execution_count": 37,
   "id": "110d2638",
   "metadata": {},
   "outputs": [],
   "source": [
    "import numpy as np\n",
    "import scipy as sp\n",
    "import matplotlib.pyplot as plt\n",
    "\n",
    "from time import perf_counter\n",
    "from datetime import datetime"
   ]
  },
  {
   "cell_type": "code",
   "execution_count": 38,
   "id": "ad45ffd3",
   "metadata": {},
   "outputs": [
    {
     "name": "stdout",
     "output_type": "stream",
     "text": [
      "Qiskit version 1.3.2\n",
      "Qiskit algorithms version 0.3.1\n"
     ]
    }
   ],
   "source": [
    "# Versions\n",
    "import qiskit\n",
    "import qiskit_algorithms\n",
    "\n",
    "print(f\"Qiskit version {qiskit.__version__}\")\n",
    "print(f\"Qiskit algorithms version {qiskit_algorithms.__version__}\")\n",
    "\n",
    "\n",
    "# Quantum Circuits!\n",
    "from qiskit import QuantumCircuit\n",
    "from qiskit import QuantumRegister, ClassicalRegister\n",
    "\n",
    "\n",
    "# General Imports\n",
    "from qiskit.primitives import StatevectorSampler, StatevectorEstimator\n",
    "from qiskit.quantum_info import Statevector, Operator, SparsePauliOp\n",
    "from qiskit.visualization import plot_histogram, plot_bloch_multivector\n",
    "from qiskit.transpiler.preset_passmanagers import generate_preset_pass_manager\n",
    "\n",
    "# Noisy simulations\n",
    "from qiskit_aer import AerSimulator\n",
    "from qiskit_aer.noise import (\n",
    "    NoiseModel,\n",
    "    QuantumError,\n",
    "    ReadoutError,\n",
    "    depolarizing_error,\n",
    "    pauli_error,\n",
    "    thermal_relaxation_error,\n",
    ")\n",
    "\n",
    "# Running on a real quantum computer\n",
    "from qiskit_ibm_runtime import QiskitRuntimeService\n",
    "from qiskit_ibm_runtime import SamplerV2\n",
    "\n",
    "# Run time-evolution problems\n",
    "from qiskit_algorithms.time_evolvers import TrotterQRTE, TimeEvolutionProblem\n"
   ]
  },
  {
   "cell_type": "markdown",
   "id": "36e6c16b",
   "metadata": {},
   "source": [
    "# General"
   ]
  },
  {
   "cell_type": "markdown",
   "id": "824498cc",
   "metadata": {},
   "source": [
    "## States and Bloch Vectors"
   ]
  },
  {
   "cell_type": "code",
   "execution_count": null,
   "id": "f0e6efdd",
   "metadata": {},
   "outputs": [],
   "source": [
    "# Generate a random state\n",
    "def rstate(unitary: bool = False) -> np.ndarray:\n",
    "    # Chose the secret state for Alice\n",
    "    theta = np.random.random() * np.pi\n",
    "    phi = np.random.random() * (2 * np.pi)\n",
    "\n",
    "    # Compute the coefficients\n",
    "    a = np.cos(0.5 * theta)\n",
    "    b = np.sin(0.5 * theta) * np.exp(1j * phi)\n",
    "\n",
    "    if unitary:\n",
    "        # Unitary matrix that makes that state\n",
    "        return np.array([[a, -np.conj(b)], [b, np.conj(a)]])\n",
    "    else:\n",
    "        return np.array([a, b])"
   ]
  },
  {
   "cell_type": "code",
   "execution_count": 40,
   "id": "37166353",
   "metadata": {},
   "outputs": [],
   "source": [
    "# Reconstruct the state from the Bloch vector\n",
    "def state_from_bloch(bloch: list) -> list:\n",
    "    # Get angles\n",
    "    theta = np.arccos(bloch[2])\n",
    "    phi = np.arctan2(bloch[1], bloch[0])\n",
    "\n",
    "    # Get the state\n",
    "    a = np.cos(0.5 * theta)\n",
    "    b = np.sin(0.5 * theta) * np.exp(1j * phi)\n",
    "\n",
    "    return [a, b]"
   ]
  },
  {
   "cell_type": "code",
   "execution_count": 41,
   "id": "6245c8ac",
   "metadata": {},
   "outputs": [],
   "source": [
    "def bloch_from_state(state: list) -> list:\n",
    "    # Get phases\n",
    "    phi0 = np.angle(state[0])\n",
    "    phi1 = np.angle(state[1])\n",
    "\n",
    "    # Get angles\n",
    "    theta = 2 * np.arccos(np.abs(state[0]))\n",
    "    phi = phi1 - phi0\n",
    "\n",
    "    return [np.sin(theta)*np.cos(phi), np.sin(theta)*np.sin(phi), np.cos(theta)]"
   ]
  },
  {
   "cell_type": "code",
   "execution_count": null,
   "id": "ca9c36b1",
   "metadata": {},
   "outputs": [],
   "source": [
    "# Get the density matrix for some Bloch vector\n",
    "def density_from_bloch(bloch: list | np.ndarray) -> np.ndarray:\n",
    "    # Pauli matrices\n",
    "    I = np.eye(2)\n",
    "    X = np.array([[0, 1], [1, 0]])\n",
    "    Y = np.array([[0, -1j], [1j, 0]])\n",
    "    Z = np.array([[1, 0], [0, -1]])\n",
    "    \n",
    "    # Construct the density matrix\n",
    "    rho = 0.5 * (I + bloch[0]*X + bloch[1]*Y + bloch[2]*Z)\n",
    "    return rho"
   ]
  },
  {
   "cell_type": "markdown",
   "id": "c54af694",
   "metadata": {},
   "source": [
    "## Pauli Matrices"
   ]
  },
  {
   "cell_type": "code",
   "execution_count": null,
   "id": "a519e6e6",
   "metadata": {},
   "outputs": [
    {
     "name": "stdout",
     "output_type": "stream",
     "text": [
      "Test for 2 x 2 matrix: Success!\n",
      "Test for 4 x 4 matrix: Success!\n",
      "Test for 8 x 8 matrix: Success!\n"
     ]
    }
   ],
   "source": [
    "# Calculate the pauli inverse matrix that we can apply on any matrix to get the coefficients of its Pauli expantion\n",
    "def pauliinv(n: int) -> tuple[list, list, np.ndarray]:\n",
    "\n",
    "    # Make sure n is a power of 2\n",
    "    if not np.allclose(int(np.log2(n)), np.log2(n)):\n",
    "        raise ValueError(\"The parameter n must be a power of 2.\")\n",
    "\n",
    "    # Define Pauli matrices\n",
    "    si = np.array([[1, 0], [0, 1]])\n",
    "    sx = np.array([[0, 1], [1, 0]])\n",
    "    sy = np.array([[0, -1j], [1j, 0]])\n",
    "    sz = np.array([[1, 0], [0, -1]])\n",
    "    pp2 = [si, sx, sy, sz]\n",
    "    ll2 = [\"I\", \"X\", \"Y\", \"Z\"]\n",
    "\n",
    "    # Compute the higher-order pauli matrices and labels\n",
    "    ppn = list(np.copy(pp2))\n",
    "    lln = list(np.copy(ll2))\n",
    "    for _ in range(int(np.log2(n)) - 1):\n",
    "        ppn = [np.kron(s1, s2) for s1 in ppn for s2 in pp2]\n",
    "        lln = [s1 + s2 for s1 in lln for s2 in ll2]\n",
    "    \n",
    "    # Compute the coefficients matrix for the equation a0 * si + a1 * sx + a2 * sy + a3 * sz = M where M is a matrix\n",
    "    coeffn = np.array([list(ss.flatten()) for ss in ppn], dtype=np.complex128).T\n",
    "    paulin = np.linalg.inv(coeffn)\n",
    "\n",
    "    return lln, ppn, paulin\n",
    "\n",
    "\n",
    "# Testing\n",
    "ll2, pp2, pauli2 = pauliinv(2)\n",
    "ll4, pp4, pauli4 = pauliinv(4)\n",
    "ll8, pp8, pauli8 = pauliinv(8)\n",
    "\n",
    "test2 = np.array([\n",
    "    [-1 + 1j, 2],\n",
    "    [2, 5]\n",
    "])\n",
    "test2_coeff = pauli2 @ test2.flatten()\n",
    "test2_pauli = sum([ss * co for (ss, co) in zip(pp2, test2_coeff)])\n",
    "print(f\"Test for 2 x 2 matrix: {'Success!' if np.allclose(test2, test2_pauli) else 'Fail!'}\")\n",
    "\n",
    "test4 = np.array([\n",
    "    [0.5,0,0,1j],\n",
    "    [0,1.5,0,1],\n",
    "    [0,0,2.5,0],\n",
    "    [0,2,0,3.5]\n",
    "])\n",
    "test4_coeff = pauli4 @ test4.flatten()\n",
    "test4_pauli = sum([ss * co for (ss, co) in zip(pp4, test4_coeff)])\n",
    "print(f\"Test for 4 x 4 matrix: {'Success!' if np.allclose(test4, test4_pauli) else 'Fail!'}\")\n",
    "\n",
    "g0 = 1 + 1j\n",
    "test8 = np.array([\n",
    "        [0.5,0,0,0,g0,g0,g0,g0],\n",
    "        [0,1.5,0,0,g0,g0,g0,g0],\n",
    "        [0,0,2.5,0,g0,g0,g0,g0],\n",
    "        [0,0,0,3.5,g0,g0,g0,g0],\n",
    "        [g0,g0,g0,g0,0.5,0,0,0],\n",
    "        [g0,g0,g0,g0,0,1.5,0,0],\n",
    "        [g0,g0,g0,g0,0,0,2.5,0],\n",
    "        [g0,g0,g0,g0,0,0,0,3.5]  \n",
    "])\n",
    "test8_coeff = pauli8 @ test8.flatten()\n",
    "test8_pauli = sum([ss * co for (ss, co) in zip(pp8, test8_coeff)])\n",
    "print(f\"Test for 8 x 8 matrix: {'Success!' if np.allclose(test8, test8_pauli) else 'Fail!'}\")"
   ]
  },
  {
   "cell_type": "markdown",
   "id": "633a2bbf",
   "metadata": {},
   "source": [
    "# Running "
   ]
  },
  {
   "cell_type": "code",
   "execution_count": 43,
   "id": "74075e82",
   "metadata": {},
   "outputs": [
    {
     "data": {
      "text/plain": [
       "'\\n# Initiate connection\\nTOKEN = \"11cf40c4938ae90a81c46fcb5fba785e229c640a57f2b23d8e836f37f3de2d7abc2bc176c0742bbb3e85cf937774a89db0630913240faf5e82b2d63e9654ff16\"\\nservice = QiskitRuntimeService(channel=\"ibm_quantum\", token=TOKEN)\\n\\n# Choose a real quantum computer, which is not busy\\nbackend = service.least_busy(operational=True, simulator=False)\\nprint(f\"{backend.name =}, {backend.num_qubits = }\")\\n\\n# Get noise profile\\nnoise_real = NoiseModel.from_backend(backend)\\n'"
      ]
     },
     "execution_count": 43,
     "metadata": {},
     "output_type": "execute_result"
    }
   ],
   "source": [
    "\"\"\"\n",
    "# Initiate connection\n",
    "TOKEN = \"11cf40c4938ae90a81c46fcb5fba785e229c640a57f2b23d8e836f37f3de2d7abc2bc176c0742bbb3e85cf937774a89db0630913240faf5e82b2d63e9654ff16\"\n",
    "service = QiskitRuntimeService(channel=\"ibm_quantum\", token=TOKEN)\n",
    "\n",
    "# Choose a real quantum computer, which is not busy\n",
    "backend = service.least_busy(operational=True, simulator=False)\n",
    "print(f\"{backend.name =}, {backend.num_qubits = }\")\n",
    "\n",
    "# Get noise profile\n",
    "noise_real = NoiseModel.from_backend(backend)\n",
    "\"\"\""
   ]
  },
  {
   "cell_type": "code",
   "execution_count": 44,
   "id": "9684c05f",
   "metadata": {},
   "outputs": [],
   "source": [
    "def aersim(qc: QuantumCircuit, shots: int = 1024, noise: None | NoiseModel = None) -> dict:\n",
    "    # Create noisy simulator backend\n",
    "    if noise:\n",
    "        sim = AerSimulator(noise_model=noise)\n",
    "    else:\n",
    "        sim = AerSimulator()\n",
    "    \n",
    "    # Transpile circuit for noisy basis gates\n",
    "    passmanager = generate_preset_pass_manager(\n",
    "        optimization_level=3, backend=sim\n",
    "    )\n",
    "    qc = passmanager.run(qc)\n",
    "\n",
    "    # Run\n",
    "    job = sim.run(qc, shots=shots)\n",
    "    result = job.result()\n",
    "    counts = result.get_counts()\n",
    "\n",
    "    return counts"
   ]
  },
  {
   "cell_type": "markdown",
   "id": "5891a19e",
   "metadata": {},
   "source": [
    "# Algorithms"
   ]
  },
  {
   "cell_type": "markdown",
   "id": "8726be3a",
   "metadata": {},
   "source": [
    "## Random Number Generator"
   ]
  },
  {
   "cell_type": "code",
   "execution_count": 45,
   "id": "c4785690",
   "metadata": {},
   "outputs": [],
   "source": [
    "def qrng_sim_dist(coeffs: np.ndarray, shots: int) -> dict:    \n",
    "    # Infer number of qubits\n",
    "    numq = int(np.log2(len(coeffs)))\n",
    "\n",
    "    # Normalize the coefficients\n",
    "    coeffs /= np.sqrt(np.sum(np.square(coeffs)))\n",
    "\n",
    "    # Initialize the circuit\n",
    "    qc = QuantumCircuit(numq)\n",
    "\n",
    "    # Prepare the generic quantum state which gives the desired distribution\n",
    "    qc.initialize(list(coeffs), range(numq))\n",
    "\n",
    "    # Measure all qubits\n",
    "    qc.measure_all()\n",
    "\n",
    "    # Run the circuit on a simulator backend\n",
    "    sim = AerSimulator()\n",
    "\n",
    "    # Run\n",
    "    job = sim.run(qc, shots=shots)\n",
    "    result = job.result()\n",
    "    counts = result.get_counts()\n",
    "        \n",
    "    # Convert bin to dec\n",
    "    counts_dec = {int(res, 2): freq for res, freq in counts.items()}\n",
    "\n",
    "    return counts_dec"
   ]
  },
  {
   "cell_type": "markdown",
   "id": "4fce501a",
   "metadata": {},
   "source": [
    "## Quantum State Tomography"
   ]
  },
  {
   "cell_type": "code",
   "execution_count": null,
   "id": "b20ddb7b",
   "metadata": {},
   "outputs": [],
   "source": [
    "# This paper, section II B - https://arxiv.org/pdf/1407.4759\n",
    "def inversion_physical(n0: list[int], n1: list[int]) -> np.ndarray:\n",
    "    nx0, ny0, nz0 = n0\n",
    "    nx1, ny1, nz1 = n1\n",
    "\n",
    "    # Do the inversion\n",
    "    rd = np.array([(nx0 - nx1) / (nx0 + nx1), (ny0 - ny1) / (ny0 + ny1), (nz0 - nz1) / (nz0 + nz1)])\n",
    "\n",
    "    # We are only dealing with pure states, hence |Bloch vector| = 1\n",
    "    rd = rd / np.linalg.norm(rd)\n",
    "    \n",
    "    return rd\n",
    "\n",
    "\n",
    "# Same thing, but now allow for mixed states\n",
    "def inversion(n0: list[int], n1: list[int]) -> np.ndarray:\n",
    "    nx0, ny0, nz0 = n0\n",
    "    nx1, ny1, nz1 = n1\n",
    "\n",
    "    # Do the inversion\n",
    "    rd = np.array([(nx0 - nx1) / (nx0 + nx1), (ny0 - ny1) / (ny0 + ny1), (nz0 - nz1) / (nz0 + nz1)])\n",
    "\n",
    "    # We have that |Bloch vector| <= 1\n",
    "    if (norm := np.linalg.norm(rd)) > 1:\n",
    "        rd /= norm\n",
    "    \n",
    "    return rd"
   ]
  },
  {
   "cell_type": "code",
   "execution_count": null,
   "id": "be73cc36",
   "metadata": {},
   "outputs": [],
   "source": [
    "def qst_state(instate: list, shots=1000) -> np.ndarray:\n",
    "    \n",
    "    # Create the QST circuit\n",
    "    qc = QuantumCircuit(3)\n",
    "\n",
    "    # Initialize all qubits in the same state\n",
    "    for index in range(3):\n",
    "        qc.initialize(instate, [index])\n",
    "\n",
    "    # Measure the qubits in different basis (X, Y, Z basis respectively)\n",
    "    qc.h(0)\n",
    "    qc.sdg(1)\n",
    "    qc.h(1)\n",
    "    qc.id(2)\n",
    "\n",
    "    qc.measure_all()\n",
    "\n",
    "\n",
    "    # Simulate the circuit\n",
    "    sim = AerSimulator()\n",
    "\n",
    "    # Run\n",
    "    job = sim.run(qc, shots=shots)\n",
    "    result = job.result()\n",
    "    counts = result.get_counts()\n",
    "\n",
    "    # Parse the output according to direction\n",
    "    n0 = [0, 0, 0]\n",
    "    n1 = [0, 0, 0]\n",
    "    for item in counts.items():\n",
    "        string, freq = item\n",
    "        string = string[::-1]\n",
    "        for index, result in enumerate(string):\n",
    "            if int(result) == 0:\n",
    "                n0[index] += freq\n",
    "            else:\n",
    "                n1[index] += freq\n",
    "    \n",
    "    return inversion_physical(n0, n1)"
   ]
  },
  {
   "cell_type": "code",
   "execution_count": null,
   "id": "ff8bda20",
   "metadata": {},
   "outputs": [],
   "source": [
    "def qst_qubit(qc: QuantumCircuit, qubit: int, shots: int = 1024, noise: None | NoiseModel = None) -> np.ndarray:\n",
    "\n",
    "    # Measure the qubit in different basis (X, Y, Z basis respectively)\n",
    "\n",
    "    n0 = [0, 0, 0]\n",
    "    n1 = [0, 0, 0]\n",
    "    for basis in range(3):\n",
    "        qccopy = qc.copy()\n",
    "        if basis == 0:\n",
    "            qccopy.h(qubit)\n",
    "        elif basis == 1:\n",
    "            qccopy.sdg(qubit)\n",
    "            qccopy.h(qubit)\n",
    "        elif basis == 2:\n",
    "            qccopy.id(qubit)\n",
    "        \n",
    "        qccopy.measure_all()\n",
    "\n",
    "        # Run\n",
    "        counts = aersim(qccopy, shots, noise)\n",
    "\n",
    "        # Parse the output according to direction\n",
    "        for item in counts.items():\n",
    "            string, freq = item\n",
    "            string = string[::-1]\n",
    "            result = string[qubit]\n",
    "            if int(result) == 0:\n",
    "                n0[basis] += freq\n",
    "            else:\n",
    "                n1[basis] += freq\n",
    "    \n",
    "    return inversion(n0, n1)"
   ]
  },
  {
   "cell_type": "markdown",
   "id": "0eda2b69",
   "metadata": {},
   "source": [
    "# Visualization"
   ]
  },
  {
   "cell_type": "code",
   "execution_count": 48,
   "id": "5ae88d2b",
   "metadata": {},
   "outputs": [],
   "source": [
    "def plot_counts(counts: dict, bin_size: int, label: str = \"Sample\") -> tuple[np.ndarray | list[np.ndarray], np.ndarray]:\n",
    "    # Parse the data\n",
    "    outcomes = np.array(list(counts.keys()))\n",
    "    freqs = np.array(list(counts.values()))\n",
    "    \n",
    "    # Make the plot\n",
    "    bins = len(set(outcomes)) // bin_size\n",
    "\n",
    "    n, bin_edges, _ = plt.hist(outcomes, bins=bins, edgecolor='black', weights=freqs / shots * 100, label=label)\n",
    "    plt.xlabel(\"Outcome\")\n",
    "    plt.ylabel(\"Counts (%)\")\n",
    "    plt.title(f\"Measurement Results (with {bins} bins)\")\n",
    "    plt.grid(axis='y', linestyle='--', alpha=0.5)\n",
    "\n",
    "    return n, bin_edges"
   ]
  }
 ],
 "metadata": {
  "kernelspec": {
   "display_name": "Python 3",
   "language": "python",
   "name": "python3"
  },
  "language_info": {
   "codemirror_mode": {
    "name": "ipython",
    "version": 3
   },
   "file_extension": ".py",
   "mimetype": "text/x-python",
   "name": "python",
   "nbconvert_exporter": "python",
   "pygments_lexer": "ipython3",
   "version": "3.12.2"
  }
 },
 "nbformat": 4,
 "nbformat_minor": 5
}
