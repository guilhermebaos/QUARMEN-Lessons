{
 "cells": [
  {
   "cell_type": "markdown",
   "metadata": {},
   "source": [
    "# Homework of Week 7"
   ]
  },
  {
   "cell_type": "code",
   "execution_count": 883,
   "metadata": {},
   "outputs": [],
   "source": [
    "import numpy as np\n",
    "import matplotlib.pyplot as plt"
   ]
  },
  {
   "cell_type": "code",
   "execution_count": 884,
   "metadata": {},
   "outputs": [
    {
     "name": "stdout",
     "output_type": "stream",
     "text": [
      "Qiskit version 1.3.2\n",
      "Qiskit algorithms version 0.3.1\n"
     ]
    }
   ],
   "source": [
    "# Versions\n",
    "import qiskit\n",
    "import qiskit_algorithms\n",
    "\n",
    "print(f\"Qiskit version {qiskit.__version__}\")\n",
    "print(f\"Qiskit algorithms version {qiskit_algorithms.__version__}\")\n",
    "\n",
    "\n",
    "# Quantum Circuits!\n",
    "from qiskit import QuantumCircuit\n",
    "\n",
    "# General Imports\n",
    "from qiskit.primitives import StatevectorSampler, StatevectorEstimator\n",
    "from qiskit.quantum_info import Statevector, Operator, SparsePauliOp\n",
    "from qiskit.visualization import plot_histogram, plot_bloch_multivector\n",
    "from qiskit.transpiler.preset_passmanagers import generate_preset_pass_manager\n",
    "\n",
    "# Noisy simulations\n",
    "from qiskit_aer import AerSimulator\n",
    "from qiskit_aer.noise import (\n",
    "    NoiseModel,\n",
    "    QuantumError,\n",
    "    ReadoutError,\n",
    "    depolarizing_error,\n",
    "    pauli_error,\n",
    "    thermal_relaxation_error,\n",
    ")\n",
    "\n",
    "# Running on a real quantum computer\n",
    "from qiskit_ibm_runtime import QiskitRuntimeService\n",
    "\n",
    "# Run time-evolution problems\n",
    "from qiskit_algorithms.time_evolvers import TrotterQRTE, TimeEvolutionProblem"
   ]
  },
  {
   "cell_type": "code",
   "execution_count": 885,
   "metadata": {},
   "outputs": [],
   "source": [
    "# Reconstruct the state from the Bloch vector\n",
    "def state_from_bloch(bloch: list | np.ndarray) -> list:\n",
    "    # Get angles\n",
    "    theta = np.arccos(bloch[2])\n",
    "    phi = np.arctan2(bloch[1], bloch[0])\n",
    "\n",
    "    # Get the state\n",
    "    a = np.cos(0.5 * theta)\n",
    "    b = np.sin(0.5 * theta) * np.exp(1j * phi)\n",
    "\n",
    "    return [a, b]\n",
    "\n",
    "\n",
    "def bloch_from_state(state: list | np.ndarray) -> list:\n",
    "    # Get phases\n",
    "    phi0 = np.angle(state[0])\n",
    "    phi1 = np.angle(state[1])\n",
    "\n",
    "    # Get angles\n",
    "    theta = 2 * np.arccos(np.abs(state[0]))\n",
    "    phi = phi1 - phi0\n",
    "\n",
    "    return [np.sin(theta)*np.cos(phi), np.sin(theta)*np.sin(phi), np.cos(theta)]\n",
    "\n",
    "\n",
    "# Get the density matrix for some Bloch vector\n",
    "def density_from_bloch(bloch: list | np.ndarray) -> np.ndarray:\n",
    "    # Pauli matrices\n",
    "    I = np.eye(2)\n",
    "    X = np.array([[0, 1], [1, 0]])\n",
    "    Y = np.array([[0, -1j], [1j, 0]])\n",
    "    Z = np.array([[1, 0], [0, -1]])\n",
    "    \n",
    "    # Construct the density matrix\n",
    "    rho = 0.5 * (I + bloch[0]*X + bloch[1]*Y + bloch[2]*Z)\n",
    "    return rho\n"
   ]
  },
  {
   "cell_type": "code",
   "execution_count": 886,
   "metadata": {},
   "outputs": [],
   "source": [
    "def aersim(qc: QuantumCircuit, shots: int = 1024, noise: None | NoiseModel = None) -> dict:\n",
    "    # Create noisy simulator backend\n",
    "    if noise:\n",
    "        sim = AerSimulator(noise_model=noise)\n",
    "    else:\n",
    "        sim = AerSimulator()\n",
    "    \n",
    "    # Transpile circuit for noisy basis gates\n",
    "    passmanager = generate_preset_pass_manager(\n",
    "        optimization_level=3, backend=sim\n",
    "    )\n",
    "    qc = passmanager.run(qc)\n",
    "\n",
    "    # Run\n",
    "    job = sim.run(qc, shots=shots)\n",
    "    result = job.result()\n",
    "    counts = result.get_counts()\n",
    "\n",
    "    return counts"
   ]
  },
  {
   "cell_type": "code",
   "execution_count": 887,
   "metadata": {},
   "outputs": [],
   "source": [
    "from scipy.linalg import sqrtm\n",
    "\n",
    "# Computes the Uhlmann fidelity between two density matrices\n",
    "def uhlmann_fidelity(rho: np.ndarray, sigma: np.ndarray):\n",
    "\n",
    "    # Check dimensions\n",
    "    if rho.shape != sigma.shape:\n",
    "        raise ValueError(\"Density matrices must have the same dimensions.\")\n",
    "\n",
    "    # Compute square root of rho\n",
    "    sqrt_rho = sqrtm(rho)\n",
    "\n",
    "    # Compute the intermediate matrix: sqrt(rho) * sigma * sqrt(rho)\n",
    "    product = sqrt_rho @ sigma @ sqrt_rho\n",
    "\n",
    "    # Take matrix square root of the product\n",
    "    sqrt_product = sqrtm(product)\n",
    "\n",
    "    # Take trace and square the result to get fidelity\n",
    "    fidelity = np.real(np.trace(sqrt_product)) ** 2\n",
    "\n",
    "    return fidelity"
   ]
  },
  {
   "cell_type": "markdown",
   "metadata": {},
   "source": [
    "# Quantum State Tomography"
   ]
  },
  {
   "cell_type": "code",
   "execution_count": 888,
   "metadata": {},
   "outputs": [],
   "source": [
    "# This paper, section II B - https://arxiv.org/pdf/1407.4759\n",
    "def inversion(n0: list[int], n1: list[int]) -> np.ndarray:\n",
    "    nx0, ny0, nz0 = n0\n",
    "    nx1, ny1, nz1 = n1\n",
    "\n",
    "    # Do the inversion\n",
    "    rd = np.array([(nx0 - nx1) / (nx0 + nx1), (ny0 - ny1) / (ny0 + ny1), (nz0 - nz1) / (nz0 + nz1)])\n",
    "\n",
    "    # We have that |Bloch vector| <= 1\n",
    "    if (norm := np.linalg.norm(rd)) > 1:\n",
    "        rd /= norm\n",
    "    \n",
    "    return rd\n",
    "\n",
    "\n",
    "# This paper, section II B - https://arxiv.org/pdf/1407.4759\n",
    "def inversion_physical(n0: list[int], n1: list[int]) -> np.ndarray:\n",
    "    nx0, ny0, nz0 = n0\n",
    "    nx1, ny1, nz1 = n1\n",
    "\n",
    "    # Do the inversion\n",
    "    rd = np.array([(nx0 - nx1) / (nx0 + nx1), (ny0 - ny1) / (ny0 + ny1), (nz0 - nz1) / (nz0 + nz1)])\n",
    "\n",
    "    # We are only dealing with pure states, hence |Bloch vector| = 1\n",
    "    rd = rd / np.linalg.norm(rd)\n",
    "    \n",
    "    return rd\n",
    "\n",
    "\n",
    "def qst_sim(qc: QuantumCircuit, qubit: int, shots: int = 1024, noise: None | NoiseModel = None) -> np.ndarray:\n",
    "\n",
    "    # Measure the qubit in different basis (X, Y, Z basis respectively)\n",
    "    n0 = [0, 0, 0]\n",
    "    n1 = [0, 0, 0]\n",
    "    for basis in range(3):\n",
    "        qccopy = qc.copy()\n",
    "        if basis == 0:\n",
    "            qccopy.h(qubit)\n",
    "        elif basis == 1:\n",
    "            qccopy.sdg(qubit)\n",
    "            qccopy.h(qubit)\n",
    "        elif basis == 2:\n",
    "            qccopy.id(qubit)\n",
    "        \n",
    "        qccopy.measure_all()\n",
    "\n",
    "        # Run\n",
    "        counts = aersim(qccopy, shots, noise)\n",
    "\n",
    "        # Parse the output according to direction\n",
    "        for item in counts.items():\n",
    "            string, freq = item\n",
    "            string = string[::-1]\n",
    "            result = string[qubit]\n",
    "            if int(result) == 0:\n",
    "                n0[basis] += freq\n",
    "            else:\n",
    "                n1[basis] += freq\n",
    "    \n",
    "    return inversion(n0, n1)"
   ]
  },
  {
   "cell_type": "markdown",
   "metadata": {},
   "source": [
    "# Teleportation Protocol"
   ]
  },
  {
   "cell_type": "code",
   "execution_count": 889,
   "metadata": {},
   "outputs": [],
   "source": [
    "# Generate a random state\n",
    "def rstate(unitary: bool = False) -> np.ndarray:\n",
    "    # Chose the secret state for Alice\n",
    "    theta = np.random.random() * np.pi\n",
    "    phi = np.random.random() * (2 * np.pi)\n",
    "\n",
    "    # Compute the coefficients\n",
    "    a = np.cos(0.5 * theta)\n",
    "    b = np.sin(0.5 * theta) * np.exp(1j * phi)\n",
    "\n",
    "    if unitary:\n",
    "        # Unitary matrix that makes that state\n",
    "        return np.array([[a, -np.conj(b)], [b, np.conj(a)]])\n",
    "    else:\n",
    "        return np.array([a, b])"
   ]
  },
  {
   "cell_type": "code",
   "execution_count": 890,
   "metadata": {},
   "outputs": [],
   "source": [
    "def teleportqc(inunitary: np.ndarray, measure: bool = True) -> QuantumCircuit:\n",
    "\n",
    "    # Create the quantum circuit with 3 qubits and 1 classical bit\n",
    "    if measure:\n",
    "        qc = QuantumCircuit(3, 1)\n",
    "    else:\n",
    "        qc = QuantumCircuit(3)\n",
    "\n",
    "    # Generate a secret state for Alice\n",
    "    qc.unitary(Operator(inunitary), [0], label=\"Setup\")\n",
    "\n",
    "    # Step 0: Alice and Bob create an entangled pair in the Bell state 00\n",
    "    qc.h(1)\n",
    "    qc.cx(1, 2)\n",
    "    qc.barrier()\n",
    "\n",
    "    # Step 1: Alice applies a CNOT gate on  q1 controlled by q0 followed by a Hadamard (change to Bell basis)\n",
    "    qc.cx(0, 1)\n",
    "    qc.h(0)\n",
    "\n",
    "    # Step 2: Alice applies a measurement to both her registers and sends the results to Bob\n",
    "    # Step 3: Bob applies specific gates to his quantum register q2 based on the results he got\n",
    "    qc.cx(1, 2)\n",
    "    qc.cz(0, 2)\n",
    "\n",
    "    # We do these two stepts at the same time by using controled gates!\n",
    "    # This works because Bob has to apply X if Alice measured 1 on her second qubit and I otherwise and analogously for Z.\n",
    "    if measure:\n",
    "        # Verify if the teleportation worked by inverting the unitary transformation that generateb the secret state\n",
    "        # but now applied to Bob's state, and if everything went correctly it should reverse the state back to |0>\n",
    "        qc.unitary(Operator(np.conj(inunitary.T)), [2], label=\"Inverse\")\n",
    "\n",
    "        qc.barrier()\n",
    "        qc.measure(2, 0)\n",
    "\n",
    "    return qc"
   ]
  },
  {
   "cell_type": "markdown",
   "metadata": {},
   "source": [
    "## Exercise 1"
   ]
  },
  {
   "cell_type": "code",
   "execution_count": 891,
   "metadata": {},
   "outputs": [
    {
     "name": "stdout",
     "output_type": "stream",
     "text": [
      "All tests passed!\n"
     ]
    }
   ],
   "source": [
    "# Parameters\n",
    "tests = 20\n",
    "shots = 1000\n",
    "\n",
    "for _ in range(tests):\n",
    "    inunitary = rstate(unitary=True)\n",
    "    qc = teleportqc(inunitary)\n",
    "    counts = aersim(qc, shots=shots)\n",
    "\n",
    "    if counts[\"0\"] != shots:\n",
    "        print(f\"Test failed for state {inunitary[:, 0].T}\")\n",
    "        break\n",
    "else:\n",
    "    print(\"All tests passed!\")"
   ]
  },
  {
   "cell_type": "markdown",
   "metadata": {},
   "source": [
    "## Exercise 2"
   ]
  },
  {
   "cell_type": "code",
   "execution_count": null,
   "metadata": {},
   "outputs": [
    {
     "name": "stdout",
     "output_type": "stream",
     "text": [
      "Low fidelity for state with Bloch vector: [0.9085296339018915, -0.23532774495105457, -0.345245936657257]\n"
     ]
    }
   ],
   "source": [
    "# Measure fidelity without noise\n",
    "tests = 5\n",
    "shots = 1000\n",
    "\n",
    "for _ in range(tests):\n",
    "    inunitary = rstate(unitary=True)\n",
    "    instate = inunitary[:, 0]\n",
    "    inbloch = bloch_from_state(np.array(instate))\n",
    "    inrho = density_from_bloch(inbloch)\n",
    "\n",
    "    qc = teleportqc(inunitary, measure=False)\n",
    "\n",
    "    outbloch = qst_sim(qc, 2, shots=shots, noise=None)\n",
    "    outrho = density_from_bloch(outbloch)\n",
    "\n",
    "    fidelity = uhlmann_fidelity(inrho, outrho)\n",
    "    if fidelity < 0.95:\n",
    "        print(f\"Low fidelity for state with Bloch vector: {inbloch}\")\n",
    "        break\n",
    "else:\n",
    "    print(\"Fidelity was above 0.95 for all states!\")"
   ]
  },
  {
   "cell_type": "markdown",
   "metadata": {},
   "source": [
    "We are going to use the **noise profile** of a real quantum computer."
   ]
  },
  {
   "cell_type": "code",
   "execution_count": 896,
   "metadata": {},
   "outputs": [
    {
     "name": "stdout",
     "output_type": "stream",
     "text": [
      "backend.name ='ibm_brisbane', backend.num_qubits = 127\n"
     ]
    }
   ],
   "source": [
    "# # Initiate connection\n",
    "# TOKEN = \"11cf40c4938ae90a81c46fcb5fba785e229c640a57f2b23d8e836f37f3de2d7abc2bc176c0742bbb3e85cf937774a89db0630913240faf5e82b2d63e9654ff16\"\n",
    "# service = QiskitRuntimeService(channel=\"ibm_quantum\", token=TOKEN)\n",
    "\n",
    "# # Choose a real quantum computer, which is not busy\n",
    "# backend = service.least_busy(operational=True, simulator=False)\n",
    "# print(f\"{backend.name =}, {backend.num_qubits = }\")\n",
    "\n",
    "# # Get noise profile\n",
    "# noise_real = NoiseModel.from_backend(backend)"
   ]
  },
  {
   "cell_type": "markdown",
   "metadata": {},
   "source": [
    "We immediately see that fidelity drops just by the addition of noise!"
   ]
  },
  {
   "cell_type": "code",
   "execution_count": 894,
   "metadata": {},
   "outputs": [
    {
     "name": "stdout",
     "output_type": "stream",
     "text": [
      "0.3596157502254631\n",
      "0.19897129990027776\n",
      "0.7724344248893114\n"
     ]
    }
   ],
   "source": [
    "# Run qst for our teleportation protocol circuit\n",
    "# Parameters\n",
    "tests = 3\n",
    "shots = 1000\n",
    "\n",
    "for _ in range(tests):\n",
    "    inunitary = rstate(unitary=True)\n",
    "    inrho = density_from_bloch(bloch_from_state(np.array(inunitary[0, :])))\n",
    "    \n",
    "    qc = teleportqc(inunitary, measure=False)\n",
    "    outrho = density_from_bloch(qst_sim(qc, 2, shots=shots, noise=noise_real))\n",
    "\n",
    "    print(uhlmann_fidelity(inrho, outrho))"
   ]
  },
  {
   "cell_type": "markdown",
   "metadata": {},
   "source": [
    "### Question 1"
   ]
  },
  {
   "cell_type": "markdown",
   "metadata": {},
   "source": [
    "We expect that the initial quantum gates will have to effects:\n",
    "- Add noise into the system.\n",
    "- Change the position of the Bloch vector.\n",
    "\n",
    "The first effect will of course decrease the fidelity of the protocol, and we will explore the second one in question 2."
   ]
  },
  {
   "cell_type": "markdown",
   "metadata": {},
   "source": [
    "### Question 2"
   ]
  },
  {
   "cell_type": "markdown",
   "metadata": {},
   "source": [
    "We can see that fidelity decreases a lot when the Bloch vector is pointing perpendicularly to the $z$ axis! This must be because the gates associated with rotations away from the axis are more noisy in the noise profile we used."
   ]
  },
  {
   "cell_type": "code",
   "execution_count": 895,
   "metadata": {},
   "outputs": [
    {
     "data": {
      "text/plain": [
       "[]"
      ]
     },
     "execution_count": 895,
     "metadata": {},
     "output_type": "execute_result"
    },
    {
     "data": {
      "image/png": "[encoded data removed]",
      "text/plain": [
       "<Figure size 640x480 with 1 Axes>"
      ]
     },
     "metadata": {},
     "output_type": "display_data"
    }
   ],
   "source": [
    "# Parameters\n",
    "shots = 2000\n",
    "\n",
    "# Create a grid of (theta, phi)\n",
    "tt = np.linspace(0, np.pi, 10)\n",
    "pp = [0, np.pi * 0.5, np.pi * 1.0, np.pi * 1.5]\n",
    "\n",
    "plt.title(f\"Fidelity\")\n",
    "for phi in pp:\n",
    "    ff = []\n",
    "    for theta in tt:\n",
    "        # Get the state\n",
    "        a = np.cos(0.5 * theta)\n",
    "        b = np.sin(0.5 * theta) * np.exp(1j * phi)\n",
    "\n",
    "        inunitary = np.array([[a, -np.conj(b)], [b, np.conj(a)]])\n",
    "        inrho = density_from_bloch(bloch_from_state(np.array(inunitary[0, :])))\n",
    "        \n",
    "        qc = teleportqc(inunitary, measure=False)\n",
    "        outrho = density_from_bloch(qst_sim(qc, 2, shots=shots, noise=noise_real))\n",
    "\n",
    "        ff += [uhlmann_fidelity(inrho, outrho)]\n",
    "\n",
    "    plt.plot(tt, ff, label=f\"Fidelity for $\\\\phi$ = {phi}\")\n",
    "\n",
    "plt.xlabel(\"Value of $\\\\theta$\")\n",
    "plt.ylabel(\"Fidelity\")\n",
    "plt.legend()\n",
    "plt.plot()"
   ]
  }
 ],
 "metadata": {
  "kernelspec": {
   "display_name": "Python 3",
   "language": "python",
   "name": "python3"
  },
  "language_info": {
   "codemirror_mode": {
    "name": "ipython",
    "version": 3
   },
   "file_extension": ".py",
   "mimetype": "text/x-python",
   "name": "python",
   "nbconvert_exporter": "python",
   "pygments_lexer": "ipython3",
   "version": "3.12.2"
  }
 },
 "nbformat": 4,
 "nbformat_minor": 2
}
