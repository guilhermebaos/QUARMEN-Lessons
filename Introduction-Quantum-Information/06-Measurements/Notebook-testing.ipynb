{
 "cells": [
  {
   "cell_type": "markdown",
   "metadata": {},
   "source": [
    "# Notebook of Week 6 REDO"
   ]
  },
  {
   "cell_type": "code",
   "execution_count": 13,
   "metadata": {},
   "outputs": [],
   "source": [
    "import numpy as np\n",
    "import matplotlib.pyplot as plt\n",
    "\n",
    "from typing import Callable\n",
    "from scipy.integrate import solve_ivp"
   ]
  },
  {
   "cell_type": "code",
   "execution_count": 14,
   "metadata": {},
   "outputs": [],
   "source": [
    "# Quantum Circuits!\n",
    "from qiskit import QuantumCircuit\n",
    "from qiskit import QuantumRegister, ClassicalRegister\n",
    "\n",
    "# General Imports\n",
    "from qiskit.primitives import StatevectorSampler\n",
    "from qiskit.quantum_info import Statevector\n",
    "from qiskit.visualization import plot_histogram, plot_bloch_multivector\n",
    "from qiskit.transpiler.preset_passmanagers import generate_preset_pass_manager\n",
    "\n",
    "# Noisy simulations\n",
    "from qiskit_aer import AerSimulator\n",
    "from qiskit_aer.noise import (\n",
    "    NoiseModel,\n",
    "    QuantumError,\n",
    "    ReadoutError,\n",
    "    depolarizing_error,\n",
    "    pauli_error,\n",
    "    thermal_relaxation_error,\n",
    ")\n",
    "\n",
    "# Running on a real quantum computer\n",
    "from qiskit_ibm_runtime import QiskitRuntimeService\n",
    "from qiskit_ibm_runtime import SamplerV2"
   ]
  },
  {
   "cell_type": "code",
   "execution_count": 19,
   "metadata": {},
   "outputs": [
    {
     "data": {
      "text/latex": [
       "$$\\frac{\\sqrt{6}}{4} |00\\rangle- \\frac{\\sqrt{2}}{4} |01\\rangle+\\frac{\\sqrt{2}}{4} |10\\rangle+\\frac{\\sqrt{6}}{4} |11\\rangle$$"
      ],
      "text/plain": [
       "<IPython.core.display.Latex object>"
      ]
     },
     "execution_count": 19,
     "metadata": {},
     "output_type": "execute_result"
    }
   ],
   "source": [
    "# Create a Quantum Circuit acting on a quantum register of 2 qubits and 2 bits\n",
    "qc = QuantumCircuit(2,6)\n",
    "\n",
    "# Prepare the initial state as a superposition of |00> and |11>\n",
    "overlap_coef = 0.5  # adjust this parameter to control the overlap coefficients\n",
    "qc.h(0)\n",
    "qc.cx(0, 1)\n",
    "qc.ry(2 * overlap_coef * np.arcsin(np.sqrt(1 - overlap_coef**2)), 1)\n",
    "\n",
    "# Estimate state vector at the end\n",
    "state = Statevector(qc)\n",
    "state.draw(\"latex\")"
   ]
  },
  {
   "cell_type": "code",
   "execution_count": 16,
   "metadata": {},
   "outputs": [
    {
     "data": {
      "text/html": [
       "<pre style=\"word-wrap: normal;white-space: pre;background: #fff0;line-height: 1.1;font-family: &quot;Courier New&quot;,Courier,monospace\">     ┌───┐                ┌─┐   ┌─┐   ┌─┐   \n",
       "q_0: ┤ H ├──■─────────────┤M├───┤M├───┤M├───\n",
       "     └───┘┌─┴─┐┌─────────┐└╥┘┌─┐└╥┘┌─┐└╥┘┌─┐\n",
       "q_1: ─────┤ X ├┤ Ry(π/3) ├─╫─┤M├─╫─┤M├─╫─┤M├\n",
       "          └───┘└─────────┘ ║ └╥┘ ║ └╥┘ ║ └╥┘\n",
       "c: 6/══════════════════════╩══╩══╩══╩══╩══╩═\n",
       "                           0  1  2  3  4  5 </pre>"
      ],
      "text/plain": [
       "     ┌───┐                ┌─┐   ┌─┐   ┌─┐   \n",
       "q_0: ┤ H ├──■─────────────┤M├───┤M├───┤M├───\n",
       "     └───┘┌─┴─┐┌─────────┐└╥┘┌─┐└╥┘┌─┐└╥┘┌─┐\n",
       "q_1: ─────┤ X ├┤ Ry(π/3) ├─╫─┤M├─╫─┤M├─╫─┤M├\n",
       "          └───┘└─────────┘ ║ └╥┘ ║ └╥┘ ║ └╥┘\n",
       "c: 6/══════════════════════╩══╩══╩══╩══╩══╩═\n",
       "                           0  1  2  3  4  5 "
      ]
     },
     "execution_count": 16,
     "metadata": {},
     "output_type": "execute_result"
    }
   ],
   "source": [
    "# Measure both qubits in the computational basis\n",
    "qc.measure([0,1],[0,1])\n",
    "qc.measure([0,1],[2,3])\n",
    "qc.measure([0,1],[4,5])\n",
    "qc.draw()"
   ]
  },
  {
   "cell_type": "code",
   "execution_count": 17,
   "metadata": {},
   "outputs": [
    {
     "data": {
      "image/png": "[encoded data removed]",
      "text/plain": [
       "<Figure size 640x480 with 1 Axes>"
      ]
     },
     "execution_count": 17,
     "metadata": {},
     "output_type": "execute_result"
    }
   ],
   "source": [
    "# Making a simulation, using a sampler\n",
    "sampler = StatevectorSampler()\n",
    "\n",
    "# Running the job\n",
    "job = sampler.run([qc], shots=1000)\n",
    "\n",
    "# The \"0\" index is because we can run more than one circuit\n",
    "results = job.result()[0] \n",
    "\n",
    "# The \"c\" attribute is named after the classical register\n",
    "counts = results.data.c.get_counts()\n",
    "\n",
    "# Plot the results\n",
    "plot_histogram(counts)"
   ]
  },
  {
   "cell_type": "code",
   "execution_count": null,
   "metadata": {},
   "outputs": [],
   "source": []
  }
 ],
 "metadata": {
  "kernelspec": {
   "display_name": "Python 3",
   "language": "python",
   "name": "python3"
  },
  "language_info": {
   "codemirror_mode": {
    "name": "ipython",
    "version": 3
   },
   "file_extension": ".py",
   "mimetype": "text/x-python",
   "name": "python",
   "nbconvert_exporter": "python",
   "pygments_lexer": "ipython3",
   "version": "3.12.0"
  }
 },
 "nbformat": 4,
 "nbformat_minor": 2
}
