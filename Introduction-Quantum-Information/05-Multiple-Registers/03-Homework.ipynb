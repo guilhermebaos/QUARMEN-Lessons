{
 "cells": [
  {
   "cell_type": "markdown",
   "id": "d0827a53",
   "metadata": {},
   "source": [
    "# Homework of Week 5 - Extra Credits (Updating the Noise Models Notebook)"
   ]
  },
  {
   "cell_type": "markdown",
   "id": "d66a75c5",
   "metadata": {},
   "source": [
    "# Before we Start"
   ]
  },
  {
   "cell_type": "code",
   "execution_count": 31,
   "id": "8c07482d",
   "metadata": {},
   "outputs": [
    {
     "name": "stdout",
     "output_type": "stream",
     "text": [
      "Qiskit version: 1.3.2\n",
      "Qiskit Aer version: 0.17.0\n"
     ]
    }
   ],
   "source": [
    "import numpy as np\n",
    "import matplotlib.pyplot as plt\n",
    "\n",
    "# Qiskit Circuit and Visualization\n",
    "import qiskit\n",
    "from qiskit import QuantumCircuit\n",
    "from qiskit.quantum_info import Statevector\n",
    "from qiskit.visualization import plot_histogram\n",
    "\n",
    "# Aer simulator and noise\n",
    "import qiskit_aer\n",
    "from qiskit_aer import AerSimulator\n",
    "from qiskit_aer.noise import NoiseModel\n",
    "from qiskit_aer.noise import pauli_error, thermal_relaxation_error\n",
    "\n",
    "print(\"Qiskit version:\", qiskit.__version__)\n",
    "print(\"Qiskit Aer version:\", qiskit_aer.__version__)"
   ]
  },
  {
   "cell_type": "markdown",
   "id": "011868bc",
   "metadata": {},
   "source": [
    "# Noise and Decoherence\n",
    "\n",
    "We consider a system that generates the Bell state $\\ket{\\Phi^+}$."
   ]
  },
  {
   "cell_type": "code",
   "execution_count": 32,
   "id": "945b2dda",
   "metadata": {},
   "outputs": [
    {
     "data": {
      "text/latex": [
       "$$\\frac{\\sqrt{2}}{2} |00\\rangle+\\frac{\\sqrt{2}}{2} |11\\rangle$$"
      ],
      "text/plain": [
       "<IPython.core.display.Latex object>"
      ]
     },
     "execution_count": 32,
     "metadata": {},
     "output_type": "execute_result"
    }
   ],
   "source": [
    "# System Specification\n",
    "n_qubits = 2\n",
    "qc = QuantumCircuit(n_qubits)\n",
    "\n",
    "# Prepare the Bell state\n",
    "qc.h(0)\n",
    "for q in range(n_qubits - 1):\n",
    "    qc.cx(q, q + 1)\n",
    "\n",
    "# Get the state vector\n",
    "state = Statevector(qc)\n",
    "state.draw(\"latex\")"
   ]
  },
  {
   "cell_type": "code",
   "execution_count": 33,
   "id": "d633be95",
   "metadata": {},
   "outputs": [
    {
     "data": {
      "text/html": [
       "<pre style=\"word-wrap: normal;white-space: pre;background: #fff0;line-height: 1.1;font-family: &quot;Courier New&quot;,Courier,monospace\">        ┌───┐      ░ ┌─┐   \n",
       "   q_0: ┤ H ├──■───░─┤M├───\n",
       "        └───┘┌─┴─┐ ░ └╥┘┌─┐\n",
       "   q_1: ─────┤ X ├─░──╫─┤M├\n",
       "             └───┘ ░  ║ └╥┘\n",
       "meas: 2/══════════════╩══╩═\n",
       "                      0  1 </pre>"
      ],
      "text/plain": [
       "        ┌───┐      ░ ┌─┐   \n",
       "   q_0: ┤ H ├──■───░─┤M├───\n",
       "        └───┘┌─┴─┐ ░ └╥┘┌─┐\n",
       "   q_1: ─────┤ X ├─░──╫─┤M├\n",
       "             └───┘ ░  ║ └╥┘\n",
       "meas: 2/══════════════╩══╩═\n",
       "                      0  1 "
      ]
     },
     "execution_count": 33,
     "metadata": {},
     "output_type": "execute_result"
    }
   ],
   "source": [
    "# Measure the qubits\n",
    "qc.measure_all()\n",
    "qc.draw()"
   ]
  },
  {
   "cell_type": "markdown",
   "id": "3d1172eb",
   "metadata": {},
   "source": [
    "## Noiseless Simulation"
   ]
  },
  {
   "cell_type": "code",
   "execution_count": 34,
   "id": "4e2f306c",
   "metadata": {},
   "outputs": [
    {
     "data": {
      "image/png": "[encoded data removed]",
      "text/plain": [
       "<Figure size 640x480 with 1 Axes>"
      ]
     },
     "execution_count": 34,
     "metadata": {},
     "output_type": "execute_result"
    }
   ],
   "source": [
    "# Ideal Execution on Noise-Free Simulator\n",
    "sim = AerSimulator()\n",
    "\n",
    "# Run\n",
    "job_ideal = sim.run(qc)\n",
    "result_ideal = job_ideal.result()\n",
    "counts_ideal = result_ideal.get_counts()\n",
    "\n",
    "# Plot\n",
    "plot_histogram(counts_ideal, legend=[\"ideal\"])"
   ]
  },
  {
   "cell_type": "markdown",
   "id": "2ffbcf81",
   "metadata": {},
   "source": [
    "# Bit Flip Noise"
   ]
  },
  {
   "cell_type": "code",
   "execution_count": null,
   "id": "10d2bc6d",
   "metadata": {},
   "outputs": [
    {
     "data": {
      "image/png": "[encoded data removed]",
      "text/plain": [
       "<Figure size 640x480 with 1 Axes>"
      ]
     },
     "execution_count": 35,
     "metadata": {},
     "output_type": "execute_result"
    }
   ],
   "source": [
    "# Bit-Flip Noise Model\n",
    "p_reset = 0.03\n",
    "p_meas = 0.1\n",
    "p_gate = 0.05\n",
    "\n",
    "# Create the noise model\n",
    "error_reset = pauli_error([('X', p_reset), ('I', 1 - p_reset)])\n",
    "error_meas = pauli_error([('X', p_meas), ('I', 1 - p_meas)])\n",
    "error_gate = pauli_error([('X', p_gate), ('I', 1 - p_gate)])\n",
    "error_cx = error_gate.tensor(error_gate)\n",
    "\n",
    "noise_bit_flip = NoiseModel()\n",
    "noise_bit_flip.add_all_qubit_quantum_error(error_reset, 'reset')\n",
    "noise_bit_flip.add_all_qubit_quantum_error(error_meas, 'measure')\n",
    "noise_bit_flip.add_all_qubit_quantum_error(error_gate, ['h', 'x', 'y', 'z'])\n",
    "noise_bit_flip.add_all_qubit_quantum_error(error_cx, ['cx'])\n",
    "\n",
    "# Run noisy simulation\n",
    "sim_bit = AerSimulator(noise_model=noise_bit_flip,\n",
    "                       basis_gates=noise_bit_flip.basis_gates)\n",
    "\n",
    "job_bit = sim_bit.run(qc)\n",
    "counts_bit = job_bit.result().get_counts()\n",
    "\n",
    "# Plot comparison\n",
    "plot_histogram([counts_ideal, counts_bit], legend=[\"ideal\", \"bit_flip\"])"
   ]
  },
  {
   "cell_type": "markdown",
   "id": "ee8768f3",
   "metadata": {},
   "source": [
    "## Thermal Noise"
   ]
  },
  {
   "cell_type": "code",
   "execution_count": null,
   "id": "403ed524",
   "metadata": {},
   "outputs": [
    {
     "data": {
      "image/png": "[encoded data removed]",
      "text/plain": [
       "<Figure size 640x480 with 1 Axes>"
      ]
     },
     "execution_count": 36,
     "metadata": {},
     "output_type": "execute_result"
    }
   ],
   "source": [
    "# Thermal Relaxation Noise Model\n",
    "\n",
    "# Random T1/T2 times (ns)\n",
    "T1s = np.random.normal(50e3, 10e3, n_qubits)\n",
    "T2s = np.minimum(np.random.normal(50e3, 10e3, n_qubits), 2 * T1s)\n",
    "\n",
    "times = {\n",
    "    'reset': 1000,\n",
    "    'measure': 1000,\n",
    "    'u1': 0,\n",
    "    'u2': 50,\n",
    "    'u3': 100,\n",
    "    'cx': 300,\n",
    "}\n",
    "\n",
    "# Build errors per instruction\n",
    "noise_thermal = NoiseModel()\n",
    "for idx in range(n_qubits):\n",
    "    t1, t2 = T1s[idx], T2s[idx]\n",
    "    # Single-qubit\n",
    "    noise_thermal.add_quantum_error(\n",
    "        thermal_relaxation_error(t1, t2, times['reset']), 'reset', [idx]\n",
    "    )\n",
    "    noise_thermal.add_quantum_error(\n",
    "        thermal_relaxation_error(t1, t2, times['measure']), 'measure', [idx]\n",
    "    )\n",
    "    for gate in ['u1', 'u2', 'u3']:\n",
    "        noise_thermal.add_quantum_error(\n",
    "            thermal_relaxation_error(t1, t2, times[gate]), gate, [idx]\n",
    "        )\n",
    "\n",
    "# Two-qubit CX errors\n",
    "for i in range(n_qubits):\n",
    "    for j in range(n_qubits):\n",
    "        err = thermal_relaxation_error(T1s[i], T2s[i], times['cx']).expand(\n",
    "            thermal_relaxation_error(T1s[j], T2s[j], times['cx'])\n",
    "        )\n",
    "        noise_thermal.add_quantum_error(err, 'cx', [i, j])\n",
    "\n",
    "# Run noisy thermal\n",
    "sim_therm = AerSimulator(noise_model=noise_thermal,\n",
    "                         basis_gates=noise_thermal.basis_gates)\n",
    "job_therm = sim_therm.run(qc)\n",
    "counts_therm = job_therm.result().get_counts()\n",
    "\n",
    "# Plot all\n",
    "plot_histogram([counts_ideal, counts_bit, counts_therm],\n",
    "               legend=[\"ideal\", \"bit_flip\", \"thermal\"])"
   ]
  }
 ],
 "metadata": {
  "kernelspec": {
   "display_name": "Python 3",
   "language": "python",
   "name": "python3"
  },
  "language_info": {
   "codemirror_mode": {
    "name": "ipython",
    "version": 3
   },
   "file_extension": ".py",
   "mimetype": "text/x-python",
   "name": "python",
   "nbconvert_exporter": "python",
   "pygments_lexer": "ipython3",
   "version": "3.12.2"
  }
 },
 "nbformat": 4,
 "nbformat_minor": 5
}
